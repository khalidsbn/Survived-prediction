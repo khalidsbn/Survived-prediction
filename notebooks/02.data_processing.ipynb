{
 "cells": [
  {
   "cell_type": "code",
   "execution_count": 1,
   "id": "23ef63e7",
   "metadata": {},
   "outputs": [],
   "source": [
    "import pandas as pd\n",
    "import numpy as np\n",
    "\n",
    "from sklearn.preprocessing import OrdinalEncoder"
   ]
  },
  {
   "cell_type": "code",
   "execution_count": 2,
   "id": "6aa17428",
   "metadata": {},
   "outputs": [],
   "source": [
    "df = pd.read_csv('../data/train.csv')"
   ]
  },
  {
   "cell_type": "markdown",
   "id": "6c9ba09a",
   "metadata": {},
   "source": [
    "### Numerical features"
   ]
  },
  {
   "cell_type": "markdown",
   "id": "b6561c7f",
   "metadata": {},
   "source": [
    "The only issue with numerical features in NaN values"
   ]
  },
  {
   "cell_type": "code",
   "execution_count": 3,
   "id": "dc8694c5",
   "metadata": {
    "scrolled": true
   },
   "outputs": [
    {
     "data": {
      "text/html": [
       "<div>\n",
       "<style scoped>\n",
       "    .dataframe tbody tr th:only-of-type {\n",
       "        vertical-align: middle;\n",
       "    }\n",
       "\n",
       "    .dataframe tbody tr th {\n",
       "        vertical-align: top;\n",
       "    }\n",
       "\n",
       "    .dataframe thead th {\n",
       "        text-align: right;\n",
       "    }\n",
       "</style>\n",
       "<table border=\"1\" class=\"dataframe\">\n",
       "  <thead>\n",
       "    <tr style=\"text-align: right;\">\n",
       "      <th></th>\n",
       "      <th>PassengerId</th>\n",
       "      <th>Survived</th>\n",
       "      <th>Pclass</th>\n",
       "      <th>Age</th>\n",
       "      <th>SibSp</th>\n",
       "      <th>Parch</th>\n",
       "      <th>Fare</th>\n",
       "    </tr>\n",
       "  </thead>\n",
       "  <tbody>\n",
       "    <tr>\n",
       "      <th>0</th>\n",
       "      <td>0</td>\n",
       "      <td>1</td>\n",
       "      <td>1</td>\n",
       "      <td>NaN</td>\n",
       "      <td>2</td>\n",
       "      <td>0</td>\n",
       "      <td>27.14</td>\n",
       "    </tr>\n",
       "    <tr>\n",
       "      <th>1</th>\n",
       "      <td>1</td>\n",
       "      <td>0</td>\n",
       "      <td>3</td>\n",
       "      <td>NaN</td>\n",
       "      <td>0</td>\n",
       "      <td>0</td>\n",
       "      <td>13.35</td>\n",
       "    </tr>\n",
       "    <tr>\n",
       "      <th>2</th>\n",
       "      <td>2</td>\n",
       "      <td>0</td>\n",
       "      <td>3</td>\n",
       "      <td>0.33</td>\n",
       "      <td>1</td>\n",
       "      <td>2</td>\n",
       "      <td>71.29</td>\n",
       "    </tr>\n",
       "    <tr>\n",
       "      <th>3</th>\n",
       "      <td>3</td>\n",
       "      <td>0</td>\n",
       "      <td>3</td>\n",
       "      <td>19.00</td>\n",
       "      <td>0</td>\n",
       "      <td>0</td>\n",
       "      <td>13.04</td>\n",
       "    </tr>\n",
       "    <tr>\n",
       "      <th>4</th>\n",
       "      <td>4</td>\n",
       "      <td>1</td>\n",
       "      <td>3</td>\n",
       "      <td>25.00</td>\n",
       "      <td>0</td>\n",
       "      <td>0</td>\n",
       "      <td>7.76</td>\n",
       "    </tr>\n",
       "    <tr>\n",
       "      <th>...</th>\n",
       "      <td>...</td>\n",
       "      <td>...</td>\n",
       "      <td>...</td>\n",
       "      <td>...</td>\n",
       "      <td>...</td>\n",
       "      <td>...</td>\n",
       "      <td>...</td>\n",
       "    </tr>\n",
       "    <tr>\n",
       "      <th>99995</th>\n",
       "      <td>99995</td>\n",
       "      <td>1</td>\n",
       "      <td>2</td>\n",
       "      <td>62.00</td>\n",
       "      <td>0</td>\n",
       "      <td>0</td>\n",
       "      <td>14.86</td>\n",
       "    </tr>\n",
       "    <tr>\n",
       "      <th>99996</th>\n",
       "      <td>99996</td>\n",
       "      <td>0</td>\n",
       "      <td>2</td>\n",
       "      <td>66.00</td>\n",
       "      <td>0</td>\n",
       "      <td>0</td>\n",
       "      <td>11.15</td>\n",
       "    </tr>\n",
       "    <tr>\n",
       "      <th>99997</th>\n",
       "      <td>99997</td>\n",
       "      <td>0</td>\n",
       "      <td>3</td>\n",
       "      <td>37.00</td>\n",
       "      <td>0</td>\n",
       "      <td>0</td>\n",
       "      <td>9.95</td>\n",
       "    </tr>\n",
       "    <tr>\n",
       "      <th>99998</th>\n",
       "      <td>99998</td>\n",
       "      <td>0</td>\n",
       "      <td>3</td>\n",
       "      <td>51.00</td>\n",
       "      <td>0</td>\n",
       "      <td>1</td>\n",
       "      <td>30.92</td>\n",
       "    </tr>\n",
       "    <tr>\n",
       "      <th>99999</th>\n",
       "      <td>99999</td>\n",
       "      <td>0</td>\n",
       "      <td>3</td>\n",
       "      <td>55.00</td>\n",
       "      <td>0</td>\n",
       "      <td>0</td>\n",
       "      <td>13.96</td>\n",
       "    </tr>\n",
       "  </tbody>\n",
       "</table>\n",
       "<p>100000 rows × 7 columns</p>\n",
       "</div>"
      ],
      "text/plain": [
       "       PassengerId  Survived  Pclass    Age  SibSp  Parch   Fare\n",
       "0                0         1       1    NaN      2      0  27.14\n",
       "1                1         0       3    NaN      0      0  13.35\n",
       "2                2         0       3   0.33      1      2  71.29\n",
       "3                3         0       3  19.00      0      0  13.04\n",
       "4                4         1       3  25.00      0      0   7.76\n",
       "...            ...       ...     ...    ...    ...    ...    ...\n",
       "99995        99995         1       2  62.00      0      0  14.86\n",
       "99996        99996         0       2  66.00      0      0  11.15\n",
       "99997        99997         0       3  37.00      0      0   9.95\n",
       "99998        99998         0       3  51.00      0      1  30.92\n",
       "99999        99999         0       3  55.00      0      0  13.96\n",
       "\n",
       "[100000 rows x 7 columns]"
      ]
     },
     "execution_count": 3,
     "metadata": {},
     "output_type": "execute_result"
    }
   ],
   "source": [
    "df[df.select_dtypes('number').columns]"
   ]
  },
  {
   "cell_type": "code",
   "execution_count": 4,
   "id": "5a4b393e",
   "metadata": {},
   "outputs": [],
   "source": [
    "# delete id\n",
    "df = df.drop('PassengerId', axis=1)"
   ]
  },
  {
   "cell_type": "code",
   "execution_count": 5,
   "id": "0667c846",
   "metadata": {},
   "outputs": [
    {
     "data": {
      "text/plain": [
       "Survived       0\n",
       "Pclass         0\n",
       "Age         3292\n",
       "SibSp          0\n",
       "Parch          0\n",
       "Fare         134\n",
       "dtype: int64"
      ]
     },
     "execution_count": 5,
     "metadata": {},
     "output_type": "execute_result"
    }
   ],
   "source": [
    "df[df.select_dtypes('number').columns].isna().sum()"
   ]
  },
  {
   "cell_type": "code",
   "execution_count": 6,
   "id": "d192d4ee",
   "metadata": {},
   "outputs": [],
   "source": [
    "def fill_na_num(df):\n",
    "    nan_features = []\n",
    "    nan_df = df[df.select_dtypes('number').columns].isna().sum()\n",
    "    \n",
    "    for i in range(len(nan_df)):\n",
    "        if nan_df.values[i] != 0:\n",
    "            nan_features.append(nan_df.index[i])\n",
    "            \n",
    "    for feature in nan_features:\n",
    "        df[feature] = df[feature].fillna(df[feature].mean())\n",
    "    return df\n",
    "\n",
    "df = fill_na_num(df)"
   ]
  },
  {
   "cell_type": "code",
   "execution_count": 7,
   "id": "749af8ac",
   "metadata": {},
   "outputs": [
    {
     "data": {
      "text/html": [
       "<div>\n",
       "<style scoped>\n",
       "    .dataframe tbody tr th:only-of-type {\n",
       "        vertical-align: middle;\n",
       "    }\n",
       "\n",
       "    .dataframe tbody tr th {\n",
       "        vertical-align: top;\n",
       "    }\n",
       "\n",
       "    .dataframe thead th {\n",
       "        text-align: right;\n",
       "    }\n",
       "</style>\n",
       "<table border=\"1\" class=\"dataframe\">\n",
       "  <thead>\n",
       "    <tr style=\"text-align: right;\">\n",
       "      <th></th>\n",
       "      <th>Age</th>\n",
       "      <th>Fare</th>\n",
       "    </tr>\n",
       "  </thead>\n",
       "  <tbody>\n",
       "    <tr>\n",
       "      <th>0</th>\n",
       "      <td>38.355472</td>\n",
       "      <td>27.14</td>\n",
       "    </tr>\n",
       "    <tr>\n",
       "      <th>1</th>\n",
       "      <td>38.355472</td>\n",
       "      <td>13.35</td>\n",
       "    </tr>\n",
       "    <tr>\n",
       "      <th>2</th>\n",
       "      <td>0.330000</td>\n",
       "      <td>71.29</td>\n",
       "    </tr>\n",
       "    <tr>\n",
       "      <th>3</th>\n",
       "      <td>19.000000</td>\n",
       "      <td>13.04</td>\n",
       "    </tr>\n",
       "    <tr>\n",
       "      <th>4</th>\n",
       "      <td>25.000000</td>\n",
       "      <td>7.76</td>\n",
       "    </tr>\n",
       "    <tr>\n",
       "      <th>...</th>\n",
       "      <td>...</td>\n",
       "      <td>...</td>\n",
       "    </tr>\n",
       "    <tr>\n",
       "      <th>99995</th>\n",
       "      <td>62.000000</td>\n",
       "      <td>14.86</td>\n",
       "    </tr>\n",
       "    <tr>\n",
       "      <th>99996</th>\n",
       "      <td>66.000000</td>\n",
       "      <td>11.15</td>\n",
       "    </tr>\n",
       "    <tr>\n",
       "      <th>99997</th>\n",
       "      <td>37.000000</td>\n",
       "      <td>9.95</td>\n",
       "    </tr>\n",
       "    <tr>\n",
       "      <th>99998</th>\n",
       "      <td>51.000000</td>\n",
       "      <td>30.92</td>\n",
       "    </tr>\n",
       "    <tr>\n",
       "      <th>99999</th>\n",
       "      <td>55.000000</td>\n",
       "      <td>13.96</td>\n",
       "    </tr>\n",
       "  </tbody>\n",
       "</table>\n",
       "<p>100000 rows × 2 columns</p>\n",
       "</div>"
      ],
      "text/plain": [
       "             Age   Fare\n",
       "0      38.355472  27.14\n",
       "1      38.355472  13.35\n",
       "2       0.330000  71.29\n",
       "3      19.000000  13.04\n",
       "4      25.000000   7.76\n",
       "...          ...    ...\n",
       "99995  62.000000  14.86\n",
       "99996  66.000000  11.15\n",
       "99997  37.000000   9.95\n",
       "99998  51.000000  30.92\n",
       "99999  55.000000  13.96\n",
       "\n",
       "[100000 rows x 2 columns]"
      ]
     },
     "execution_count": 7,
     "metadata": {},
     "output_type": "execute_result"
    }
   ],
   "source": [
    "df[['Age', 'Fare']]"
   ]
  },
  {
   "cell_type": "markdown",
   "id": "5120e8bd",
   "metadata": {},
   "source": [
    "## Object features"
   ]
  },
  {
   "cell_type": "code",
   "execution_count": 8,
   "id": "468f8447",
   "metadata": {},
   "outputs": [
    {
     "data": {
      "text/html": [
       "<div>\n",
       "<style scoped>\n",
       "    .dataframe tbody tr th:only-of-type {\n",
       "        vertical-align: middle;\n",
       "    }\n",
       "\n",
       "    .dataframe tbody tr th {\n",
       "        vertical-align: top;\n",
       "    }\n",
       "\n",
       "    .dataframe thead th {\n",
       "        text-align: right;\n",
       "    }\n",
       "</style>\n",
       "<table border=\"1\" class=\"dataframe\">\n",
       "  <thead>\n",
       "    <tr style=\"text-align: right;\">\n",
       "      <th></th>\n",
       "      <th>Name</th>\n",
       "      <th>Sex</th>\n",
       "      <th>Ticket</th>\n",
       "      <th>Cabin</th>\n",
       "      <th>Embarked</th>\n",
       "    </tr>\n",
       "  </thead>\n",
       "  <tbody>\n",
       "    <tr>\n",
       "      <th>0</th>\n",
       "      <td>Oconnor, Frankie</td>\n",
       "      <td>male</td>\n",
       "      <td>209245</td>\n",
       "      <td>C12239</td>\n",
       "      <td>S</td>\n",
       "    </tr>\n",
       "    <tr>\n",
       "      <th>1</th>\n",
       "      <td>Bryan, Drew</td>\n",
       "      <td>male</td>\n",
       "      <td>27323</td>\n",
       "      <td>NaN</td>\n",
       "      <td>S</td>\n",
       "    </tr>\n",
       "    <tr>\n",
       "      <th>2</th>\n",
       "      <td>Owens, Kenneth</td>\n",
       "      <td>male</td>\n",
       "      <td>CA 457703</td>\n",
       "      <td>NaN</td>\n",
       "      <td>S</td>\n",
       "    </tr>\n",
       "    <tr>\n",
       "      <th>3</th>\n",
       "      <td>Kramer, James</td>\n",
       "      <td>male</td>\n",
       "      <td>A. 10866</td>\n",
       "      <td>NaN</td>\n",
       "      <td>S</td>\n",
       "    </tr>\n",
       "    <tr>\n",
       "      <th>4</th>\n",
       "      <td>Bond, Michael</td>\n",
       "      <td>male</td>\n",
       "      <td>427635</td>\n",
       "      <td>NaN</td>\n",
       "      <td>S</td>\n",
       "    </tr>\n",
       "    <tr>\n",
       "      <th>...</th>\n",
       "      <td>...</td>\n",
       "      <td>...</td>\n",
       "      <td>...</td>\n",
       "      <td>...</td>\n",
       "      <td>...</td>\n",
       "    </tr>\n",
       "    <tr>\n",
       "      <th>99995</th>\n",
       "      <td>Bell, Adele</td>\n",
       "      <td>female</td>\n",
       "      <td>PC 15008</td>\n",
       "      <td>D17243</td>\n",
       "      <td>C</td>\n",
       "    </tr>\n",
       "    <tr>\n",
       "      <th>99996</th>\n",
       "      <td>Brown, Herman</td>\n",
       "      <td>male</td>\n",
       "      <td>13273</td>\n",
       "      <td>NaN</td>\n",
       "      <td>S</td>\n",
       "    </tr>\n",
       "    <tr>\n",
       "      <th>99997</th>\n",
       "      <td>Childress, Charles</td>\n",
       "      <td>male</td>\n",
       "      <td>NaN</td>\n",
       "      <td>NaN</td>\n",
       "      <td>S</td>\n",
       "    </tr>\n",
       "    <tr>\n",
       "      <th>99998</th>\n",
       "      <td>Caughlin, Thomas</td>\n",
       "      <td>male</td>\n",
       "      <td>458654</td>\n",
       "      <td>NaN</td>\n",
       "      <td>S</td>\n",
       "    </tr>\n",
       "    <tr>\n",
       "      <th>99999</th>\n",
       "      <td>Enciso, Tyler</td>\n",
       "      <td>male</td>\n",
       "      <td>458074</td>\n",
       "      <td>NaN</td>\n",
       "      <td>S</td>\n",
       "    </tr>\n",
       "  </tbody>\n",
       "</table>\n",
       "<p>100000 rows × 5 columns</p>\n",
       "</div>"
      ],
      "text/plain": [
       "                     Name     Sex     Ticket   Cabin Embarked\n",
       "0        Oconnor, Frankie    male     209245  C12239        S\n",
       "1             Bryan, Drew    male      27323     NaN        S\n",
       "2          Owens, Kenneth    male  CA 457703     NaN        S\n",
       "3           Kramer, James    male   A. 10866     NaN        S\n",
       "4           Bond, Michael    male     427635     NaN        S\n",
       "...                   ...     ...        ...     ...      ...\n",
       "99995         Bell, Adele  female   PC 15008  D17243        C\n",
       "99996       Brown, Herman    male      13273     NaN        S\n",
       "99997  Childress, Charles    male        NaN     NaN        S\n",
       "99998    Caughlin, Thomas    male     458654     NaN        S\n",
       "99999       Enciso, Tyler    male     458074     NaN        S\n",
       "\n",
       "[100000 rows x 5 columns]"
      ]
     },
     "execution_count": 8,
     "metadata": {},
     "output_type": "execute_result"
    }
   ],
   "source": [
    "df[df.select_dtypes('object').columns]"
   ]
  },
  {
   "cell_type": "markdown",
   "id": "d8a43957",
   "metadata": {},
   "source": [
    "**Cabin feature**"
   ]
  },
  {
   "cell_type": "code",
   "execution_count": 9,
   "id": "23695724",
   "metadata": {},
   "outputs": [
    {
     "data": {
      "text/plain": [
       "Cabin\n",
       "C19828    6\n",
       "C6906     5\n",
       "C13699    5\n",
       "C14534    5\n",
       "B11110    5\n",
       "         ..\n",
       "A21234    1\n",
       "A4905     1\n",
       "C7208     1\n",
       "A5788     1\n",
       "D17243    1\n",
       "Name: count, Length: 26992, dtype: int64"
      ]
     },
     "execution_count": 9,
     "metadata": {},
     "output_type": "execute_result"
    }
   ],
   "source": [
    "df.Cabin.value_counts()"
   ]
  },
  {
   "cell_type": "code",
   "execution_count": 10,
   "id": "a2b7e928",
   "metadata": {},
   "outputs": [],
   "source": [
    "def cabin_processor(df):\n",
    "    df['CabinChar'] = df.Cabin.str[:1]\n",
    "    df['CabinNum'] = df.Cabin.str[1:]\n",
    "    \n",
    "    # Replace NaN values with -1\n",
    "    df['CabinNum'] = df.CabinNum.fillna(-1)\n",
    "    df['CabinNum'] = df.CabinNum.astype('int')\n",
    "    \n",
    "    return df.drop('Cabin', axis=1)\n",
    "\n",
    "df = cabin_processor(df)"
   ]
  },
  {
   "cell_type": "code",
   "execution_count": 11,
   "id": "b5952e41",
   "metadata": {},
   "outputs": [
    {
     "data": {
      "text/html": [
       "<div>\n",
       "<style scoped>\n",
       "    .dataframe tbody tr th:only-of-type {\n",
       "        vertical-align: middle;\n",
       "    }\n",
       "\n",
       "    .dataframe tbody tr th {\n",
       "        vertical-align: top;\n",
       "    }\n",
       "\n",
       "    .dataframe thead th {\n",
       "        text-align: right;\n",
       "    }\n",
       "</style>\n",
       "<table border=\"1\" class=\"dataframe\">\n",
       "  <thead>\n",
       "    <tr style=\"text-align: right;\">\n",
       "      <th></th>\n",
       "      <th>CabinChar</th>\n",
       "      <th>CabinNum</th>\n",
       "    </tr>\n",
       "  </thead>\n",
       "  <tbody>\n",
       "    <tr>\n",
       "      <th>0</th>\n",
       "      <td>C</td>\n",
       "      <td>12239</td>\n",
       "    </tr>\n",
       "    <tr>\n",
       "      <th>1</th>\n",
       "      <td>NaN</td>\n",
       "      <td>-1</td>\n",
       "    </tr>\n",
       "    <tr>\n",
       "      <th>2</th>\n",
       "      <td>NaN</td>\n",
       "      <td>-1</td>\n",
       "    </tr>\n",
       "    <tr>\n",
       "      <th>3</th>\n",
       "      <td>NaN</td>\n",
       "      <td>-1</td>\n",
       "    </tr>\n",
       "    <tr>\n",
       "      <th>4</th>\n",
       "      <td>NaN</td>\n",
       "      <td>-1</td>\n",
       "    </tr>\n",
       "    <tr>\n",
       "      <th>...</th>\n",
       "      <td>...</td>\n",
       "      <td>...</td>\n",
       "    </tr>\n",
       "    <tr>\n",
       "      <th>99995</th>\n",
       "      <td>D</td>\n",
       "      <td>17243</td>\n",
       "    </tr>\n",
       "    <tr>\n",
       "      <th>99996</th>\n",
       "      <td>NaN</td>\n",
       "      <td>-1</td>\n",
       "    </tr>\n",
       "    <tr>\n",
       "      <th>99997</th>\n",
       "      <td>NaN</td>\n",
       "      <td>-1</td>\n",
       "    </tr>\n",
       "    <tr>\n",
       "      <th>99998</th>\n",
       "      <td>NaN</td>\n",
       "      <td>-1</td>\n",
       "    </tr>\n",
       "    <tr>\n",
       "      <th>99999</th>\n",
       "      <td>NaN</td>\n",
       "      <td>-1</td>\n",
       "    </tr>\n",
       "  </tbody>\n",
       "</table>\n",
       "<p>100000 rows × 2 columns</p>\n",
       "</div>"
      ],
      "text/plain": [
       "      CabinChar  CabinNum\n",
       "0             C     12239\n",
       "1           NaN        -1\n",
       "2           NaN        -1\n",
       "3           NaN        -1\n",
       "4           NaN        -1\n",
       "...         ...       ...\n",
       "99995         D     17243\n",
       "99996       NaN        -1\n",
       "99997       NaN        -1\n",
       "99998       NaN        -1\n",
       "99999       NaN        -1\n",
       "\n",
       "[100000 rows x 2 columns]"
      ]
     },
     "execution_count": 11,
     "metadata": {},
     "output_type": "execute_result"
    }
   ],
   "source": [
    "df[['CabinChar', 'CabinNum']]"
   ]
  },
  {
   "cell_type": "markdown",
   "id": "793ae774",
   "metadata": {},
   "source": [
    "**Name feature**"
   ]
  },
  {
   "cell_type": "code",
   "execution_count": 12,
   "id": "e86831a9",
   "metadata": {},
   "outputs": [
    {
     "data": {
      "text/plain": [
       "Name\n",
       "Johnson, John        31\n",
       "Smith, James         24\n",
       "Smith, John          24\n",
       "Johnson, William     22\n",
       "Smith, Michael       20\n",
       "                     ..\n",
       "Davis, Andre          1\n",
       "Rosenblum, Ronald     1\n",
       "Landry, Ernesto       1\n",
       "Mcdonald, Frances     1\n",
       "Enciso, Tyler         1\n",
       "Name: count, Length: 92144, dtype: int64"
      ]
     },
     "execution_count": 12,
     "metadata": {},
     "output_type": "execute_result"
    }
   ],
   "source": [
    "df.Name.value_counts()"
   ]
  },
  {
   "cell_type": "code",
   "execution_count": 13,
   "id": "183c80b1",
   "metadata": {},
   "outputs": [],
   "source": [
    "# split the name feature into first name and second name\n",
    "def name_processor(df):\n",
    "    df['firstName'] = df.Name.str.split(',').str[-1]\n",
    "    df['secondName'] = df.Name.str.split(',').str[0]\n",
    "    \n",
    "    return df.drop('Name', axis=1)\n",
    "\n",
    "df = name_processor(df)"
   ]
  },
  {
   "cell_type": "code",
   "execution_count": 14,
   "id": "1c91de21",
   "metadata": {},
   "outputs": [
    {
     "data": {
      "text/html": [
       "<div>\n",
       "<style scoped>\n",
       "    .dataframe tbody tr th:only-of-type {\n",
       "        vertical-align: middle;\n",
       "    }\n",
       "\n",
       "    .dataframe tbody tr th {\n",
       "        vertical-align: top;\n",
       "    }\n",
       "\n",
       "    .dataframe thead th {\n",
       "        text-align: right;\n",
       "    }\n",
       "</style>\n",
       "<table border=\"1\" class=\"dataframe\">\n",
       "  <thead>\n",
       "    <tr style=\"text-align: right;\">\n",
       "      <th></th>\n",
       "      <th>firstName</th>\n",
       "      <th>secondName</th>\n",
       "    </tr>\n",
       "  </thead>\n",
       "  <tbody>\n",
       "    <tr>\n",
       "      <th>0</th>\n",
       "      <td>Frankie</td>\n",
       "      <td>Oconnor</td>\n",
       "    </tr>\n",
       "    <tr>\n",
       "      <th>1</th>\n",
       "      <td>Drew</td>\n",
       "      <td>Bryan</td>\n",
       "    </tr>\n",
       "    <tr>\n",
       "      <th>2</th>\n",
       "      <td>Kenneth</td>\n",
       "      <td>Owens</td>\n",
       "    </tr>\n",
       "    <tr>\n",
       "      <th>3</th>\n",
       "      <td>James</td>\n",
       "      <td>Kramer</td>\n",
       "    </tr>\n",
       "    <tr>\n",
       "      <th>4</th>\n",
       "      <td>Michael</td>\n",
       "      <td>Bond</td>\n",
       "    </tr>\n",
       "    <tr>\n",
       "      <th>...</th>\n",
       "      <td>...</td>\n",
       "      <td>...</td>\n",
       "    </tr>\n",
       "    <tr>\n",
       "      <th>99995</th>\n",
       "      <td>Adele</td>\n",
       "      <td>Bell</td>\n",
       "    </tr>\n",
       "    <tr>\n",
       "      <th>99996</th>\n",
       "      <td>Herman</td>\n",
       "      <td>Brown</td>\n",
       "    </tr>\n",
       "    <tr>\n",
       "      <th>99997</th>\n",
       "      <td>Charles</td>\n",
       "      <td>Childress</td>\n",
       "    </tr>\n",
       "    <tr>\n",
       "      <th>99998</th>\n",
       "      <td>Thomas</td>\n",
       "      <td>Caughlin</td>\n",
       "    </tr>\n",
       "    <tr>\n",
       "      <th>99999</th>\n",
       "      <td>Tyler</td>\n",
       "      <td>Enciso</td>\n",
       "    </tr>\n",
       "  </tbody>\n",
       "</table>\n",
       "<p>100000 rows × 2 columns</p>\n",
       "</div>"
      ],
      "text/plain": [
       "      firstName secondName\n",
       "0       Frankie    Oconnor\n",
       "1          Drew      Bryan\n",
       "2       Kenneth      Owens\n",
       "3         James     Kramer\n",
       "4       Michael       Bond\n",
       "...         ...        ...\n",
       "99995     Adele       Bell\n",
       "99996    Herman      Brown\n",
       "99997   Charles  Childress\n",
       "99998    Thomas   Caughlin\n",
       "99999     Tyler     Enciso\n",
       "\n",
       "[100000 rows x 2 columns]"
      ]
     },
     "execution_count": 14,
     "metadata": {},
     "output_type": "execute_result"
    }
   ],
   "source": [
    "df[['firstName', 'secondName']]"
   ]
  },
  {
   "cell_type": "markdown",
   "id": "e380206a",
   "metadata": {},
   "source": [
    "**Ticket feature**"
   ]
  },
  {
   "cell_type": "code",
   "execution_count": 15,
   "id": "6d7cec4c",
   "metadata": {},
   "outputs": [
    {
     "data": {
      "text/plain": [
       "Ticket\n",
       "PC    6375\n",
       "A.    3932\n",
       "43    3012\n",
       "44    2961\n",
       "42    2802\n",
       "      ... \n",
       "54      41\n",
       "SW      38\n",
       "53      33\n",
       "W/      28\n",
       "A4      19\n",
       "Name: count, Length: 111, dtype: int64"
      ]
     },
     "execution_count": 15,
     "metadata": {},
     "output_type": "execute_result"
    }
   ],
   "source": [
    "df.Ticket.str[:2].value_counts()"
   ]
  },
  {
   "cell_type": "code",
   "execution_count": 16,
   "id": "4b1b565a",
   "metadata": {},
   "outputs": [],
   "source": [
    "def ticket_processor(df):\n",
    "    # take only two caracter of Ticket\n",
    "    df['Ticket'] = df.Ticket.str[:2]\n",
    "    return df\n",
    "\n",
    "df = ticket_processor(df)"
   ]
  },
  {
   "cell_type": "code",
   "execution_count": 17,
   "id": "4f9878b6",
   "metadata": {},
   "outputs": [
    {
     "data": {
      "text/html": [
       "<div>\n",
       "<style scoped>\n",
       "    .dataframe tbody tr th:only-of-type {\n",
       "        vertical-align: middle;\n",
       "    }\n",
       "\n",
       "    .dataframe tbody tr th {\n",
       "        vertical-align: top;\n",
       "    }\n",
       "\n",
       "    .dataframe thead th {\n",
       "        text-align: right;\n",
       "    }\n",
       "</style>\n",
       "<table border=\"1\" class=\"dataframe\">\n",
       "  <thead>\n",
       "    <tr style=\"text-align: right;\">\n",
       "      <th></th>\n",
       "      <th>Ticket</th>\n",
       "    </tr>\n",
       "  </thead>\n",
       "  <tbody>\n",
       "    <tr>\n",
       "      <th>0</th>\n",
       "      <td>20</td>\n",
       "    </tr>\n",
       "    <tr>\n",
       "      <th>1</th>\n",
       "      <td>27</td>\n",
       "    </tr>\n",
       "    <tr>\n",
       "      <th>2</th>\n",
       "      <td>CA</td>\n",
       "    </tr>\n",
       "    <tr>\n",
       "      <th>3</th>\n",
       "      <td>A.</td>\n",
       "    </tr>\n",
       "    <tr>\n",
       "      <th>4</th>\n",
       "      <td>42</td>\n",
       "    </tr>\n",
       "    <tr>\n",
       "      <th>...</th>\n",
       "      <td>...</td>\n",
       "    </tr>\n",
       "    <tr>\n",
       "      <th>99995</th>\n",
       "      <td>PC</td>\n",
       "    </tr>\n",
       "    <tr>\n",
       "      <th>99996</th>\n",
       "      <td>13</td>\n",
       "    </tr>\n",
       "    <tr>\n",
       "      <th>99997</th>\n",
       "      <td>NaN</td>\n",
       "    </tr>\n",
       "    <tr>\n",
       "      <th>99998</th>\n",
       "      <td>45</td>\n",
       "    </tr>\n",
       "    <tr>\n",
       "      <th>99999</th>\n",
       "      <td>45</td>\n",
       "    </tr>\n",
       "  </tbody>\n",
       "</table>\n",
       "<p>100000 rows × 1 columns</p>\n",
       "</div>"
      ],
      "text/plain": [
       "      Ticket\n",
       "0         20\n",
       "1         27\n",
       "2         CA\n",
       "3         A.\n",
       "4         42\n",
       "...      ...\n",
       "99995     PC\n",
       "99996     13\n",
       "99997    NaN\n",
       "99998     45\n",
       "99999     45\n",
       "\n",
       "[100000 rows x 1 columns]"
      ]
     },
     "execution_count": 17,
     "metadata": {},
     "output_type": "execute_result"
    }
   ],
   "source": [
    "df[['Ticket']]"
   ]
  },
  {
   "cell_type": "markdown",
   "id": "8b3ff413",
   "metadata": {},
   "source": [
    "**NaN values**"
   ]
  },
  {
   "cell_type": "code",
   "execution_count": 18,
   "id": "25559e45",
   "metadata": {},
   "outputs": [
    {
     "data": {
      "text/plain": [
       "Sex               0\n",
       "Ticket         4623\n",
       "Embarked        250\n",
       "CabinChar     67866\n",
       "firstName         0\n",
       "secondName        0\n",
       "dtype: int64"
      ]
     },
     "execution_count": 18,
     "metadata": {},
     "output_type": "execute_result"
    }
   ],
   "source": [
    "df[df.select_dtypes('object').columns].isna().sum()"
   ]
  },
  {
   "cell_type": "code",
   "execution_count": 19,
   "id": "04570ad1",
   "metadata": {},
   "outputs": [],
   "source": [
    "# fillna embarked & Ticket features\n",
    "\n",
    "df['Embarked'] = df.Embarked.fillna(df.Embarked.mode().iloc[0])\n",
    "df['Ticket'] = df.Ticket.fillna(df.Ticket.mode().iloc[0])"
   ]
  },
  {
   "cell_type": "code",
   "execution_count": 20,
   "id": "275ec00b",
   "metadata": {},
   "outputs": [
    {
     "data": {
      "text/plain": [
       "CabinChar\n",
       "C    11825\n",
       "B     7439\n",
       "A     6307\n",
       "D     3637\n",
       "E     1749\n",
       "F      663\n",
       "G      482\n",
       "T       32\n",
       "Name: count, dtype: int64"
      ]
     },
     "execution_count": 20,
     "metadata": {},
     "output_type": "execute_result"
    }
   ],
   "source": [
    "df.CabinChar.value_counts()"
   ]
  },
  {
   "cell_type": "code",
   "execution_count": 21,
   "id": "f87bf322",
   "metadata": {},
   "outputs": [],
   "source": [
    "def cabinChar_processor(df):\n",
    "    df.loc[df['CabinChar'].isnull(), 'CabinChar'] = np.random.choice(['A','B','C','D'], \n",
    "                                                                     size=df['CabinChar'].isnull().sum())\n",
    "    \n",
    "    return df\n",
    "\n",
    "df = cabinChar_processor(df) "
   ]
  },
  {
   "cell_type": "code",
   "execution_count": 22,
   "id": "89e86b2e",
   "metadata": {},
   "outputs": [
    {
     "name": "stdout",
     "output_type": "stream",
     "text": [
      "<class 'pandas.core.frame.DataFrame'>\n",
      "RangeIndex: 100000 entries, 0 to 99999\n",
      "Data columns (total 13 columns):\n",
      " #   Column      Non-Null Count   Dtype  \n",
      "---  ------      --------------   -----  \n",
      " 0   Survived    100000 non-null  int64  \n",
      " 1   Pclass      100000 non-null  int64  \n",
      " 2   Sex         100000 non-null  object \n",
      " 3   Age         100000 non-null  float64\n",
      " 4   SibSp       100000 non-null  int64  \n",
      " 5   Parch       100000 non-null  int64  \n",
      " 6   Ticket      100000 non-null  object \n",
      " 7   Fare        100000 non-null  float64\n",
      " 8   Embarked    100000 non-null  object \n",
      " 9   CabinChar   100000 non-null  object \n",
      " 10  CabinNum    100000 non-null  int64  \n",
      " 11  firstName   100000 non-null  object \n",
      " 12  secondName  100000 non-null  object \n",
      "dtypes: float64(2), int64(5), object(6)\n",
      "memory usage: 9.9+ MB\n"
     ]
    }
   ],
   "source": [
    "df.info()"
   ]
  },
  {
   "cell_type": "markdown",
   "id": "b05e3b87",
   "metadata": {},
   "source": [
    "**Encoding**"
   ]
  },
  {
   "cell_type": "code",
   "execution_count": 23,
   "id": "a2231d92",
   "metadata": {},
   "outputs": [
    {
     "data": {
      "text/html": [
       "<div>\n",
       "<style scoped>\n",
       "    .dataframe tbody tr th:only-of-type {\n",
       "        vertical-align: middle;\n",
       "    }\n",
       "\n",
       "    .dataframe tbody tr th {\n",
       "        vertical-align: top;\n",
       "    }\n",
       "\n",
       "    .dataframe thead th {\n",
       "        text-align: right;\n",
       "    }\n",
       "</style>\n",
       "<table border=\"1\" class=\"dataframe\">\n",
       "  <thead>\n",
       "    <tr style=\"text-align: right;\">\n",
       "      <th></th>\n",
       "      <th>Sex</th>\n",
       "      <th>Ticket</th>\n",
       "      <th>Embarked</th>\n",
       "      <th>CabinChar</th>\n",
       "      <th>firstName</th>\n",
       "      <th>secondName</th>\n",
       "    </tr>\n",
       "  </thead>\n",
       "  <tbody>\n",
       "    <tr>\n",
       "      <th>44983</th>\n",
       "      <td>female</td>\n",
       "      <td>PC</td>\n",
       "      <td>S</td>\n",
       "      <td>C</td>\n",
       "      <td>Deborah</td>\n",
       "      <td>Mcneill</td>\n",
       "    </tr>\n",
       "    <tr>\n",
       "      <th>53650</th>\n",
       "      <td>male</td>\n",
       "      <td>43</td>\n",
       "      <td>S</td>\n",
       "      <td>A</td>\n",
       "      <td>Charles</td>\n",
       "      <td>Lin</td>\n",
       "    </tr>\n",
       "    <tr>\n",
       "      <th>93112</th>\n",
       "      <td>female</td>\n",
       "      <td>22</td>\n",
       "      <td>S</td>\n",
       "      <td>A</td>\n",
       "      <td>Sara</td>\n",
       "      <td>Donnelly</td>\n",
       "    </tr>\n",
       "    <tr>\n",
       "      <th>22770</th>\n",
       "      <td>male</td>\n",
       "      <td>S.</td>\n",
       "      <td>S</td>\n",
       "      <td>D</td>\n",
       "      <td>Herman</td>\n",
       "      <td>Ellis</td>\n",
       "    </tr>\n",
       "    <tr>\n",
       "      <th>38272</th>\n",
       "      <td>male</td>\n",
       "      <td>PC</td>\n",
       "      <td>S</td>\n",
       "      <td>D</td>\n",
       "      <td>Jason</td>\n",
       "      <td>Melchior</td>\n",
       "    </tr>\n",
       "  </tbody>\n",
       "</table>\n",
       "</div>"
      ],
      "text/plain": [
       "          Sex Ticket Embarked CabinChar firstName secondName\n",
       "44983  female     PC        S         C   Deborah    Mcneill\n",
       "53650    male     43        S         A   Charles        Lin\n",
       "93112  female     22        S         A      Sara   Donnelly\n",
       "22770    male     S.        S         D    Herman      Ellis\n",
       "38272    male     PC        S         D     Jason   Melchior"
      ]
     },
     "execution_count": 23,
     "metadata": {},
     "output_type": "execute_result"
    }
   ],
   "source": [
    "df[df.select_dtypes('object').columns].sample(5)"
   ]
  },
  {
   "cell_type": "code",
   "execution_count": 24,
   "id": "9b4e671e",
   "metadata": {},
   "outputs": [],
   "source": [
    "def encoding_processor(df):\n",
    "    encoding_features = df.select_dtypes('object').columns\n",
    "    encoder = OrdinalEncoder()\n",
    "    \n",
    "    df[encoding_features] = encoder.fit_transform(df[encoding_features])\n",
    "    return df\n",
    "\n",
    "df = encoding_processor(df)"
   ]
  },
  {
   "cell_type": "markdown",
   "id": "0a2c4386",
   "metadata": {},
   "source": [
    "**Save new data**"
   ]
  },
  {
   "cell_type": "code",
   "execution_count": 25,
   "id": "d1dd5488",
   "metadata": {},
   "outputs": [],
   "source": [
    "folder_path = '../data/'\n",
    "df.to_csv(folder_path + 'train_df_cleaned.csv', index=False)"
   ]
  },
  {
   "cell_type": "code",
   "execution_count": null,
   "id": "40050843",
   "metadata": {},
   "outputs": [],
   "source": []
  }
 ],
 "metadata": {
  "kernelspec": {
   "display_name": "Python 3 (ipykernel)",
   "language": "python",
   "name": "python3"
  },
  "language_info": {
   "codemirror_mode": {
    "name": "ipython",
    "version": 3
   },
   "file_extension": ".py",
   "mimetype": "text/x-python",
   "name": "python",
   "nbconvert_exporter": "python",
   "pygments_lexer": "ipython3",
   "version": "3.11.4"
  }
 },
 "nbformat": 4,
 "nbformat_minor": 5
}
