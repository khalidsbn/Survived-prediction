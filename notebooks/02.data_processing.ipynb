{
 "cells": [
  {
   "cell_type": "code",
   "execution_count": null,
   "id": "23ef63e7",
   "metadata": {},
   "outputs": [],
   "source": [
    "import pandas as pd\n",
    "import numpy as np\n",
    "\n",
    "from sklearn.preprocessing import OrdinalEncoder"
   ]
  },
  {
   "cell_type": "code",
   "execution_count": null,
   "id": "6aa17428",
   "metadata": {},
   "outputs": [],
   "source": [
    "df = pd.read_csv('../data/train.csv')"
   ]
  },
  {
   "cell_type": "markdown",
   "id": "6c9ba09a",
   "metadata": {},
   "source": [
    "### Numerical features"
   ]
  },
  {
   "cell_type": "markdown",
   "id": "b6561c7f",
   "metadata": {},
   "source": [
    "The only issue with numerical features in NaN values"
   ]
  },
  {
   "cell_type": "code",
   "execution_count": null,
   "id": "dc8694c5",
   "metadata": {
    "scrolled": true
   },
   "outputs": [],
   "source": [
    "df[df.select_dtypes('number').columns]"
   ]
  },
  {
   "cell_type": "code",
   "execution_count": null,
   "id": "5a4b393e",
   "metadata": {},
   "outputs": [],
   "source": [
    "# delete id\n",
    "df = df.drop('PassengerId', axis=1)"
   ]
  },
  {
   "cell_type": "code",
   "execution_count": null,
   "id": "0667c846",
   "metadata": {},
   "outputs": [],
   "source": [
    "df[df.select_dtypes('number').columns].isna().sum()"
   ]
  },
  {
   "cell_type": "code",
   "execution_count": null,
   "id": "d192d4ee",
   "metadata": {},
   "outputs": [],
   "source": [
    "def fill_na_num(df):\n",
    "    nan_features = []\n",
    "    nan_df = df[df.select_dtypes('number').columns].isna().sum()\n",
    "    \n",
    "    for i in range(len(nan_df)):\n",
    "        if nan_df.values[i] != 0:\n",
    "            nan_features.append(nan_df.index[i])\n",
    "            \n",
    "    for feature in nan_features:\n",
    "        df[feature] = df[feature].fillna(df[feature].mean())\n",
    "    return df\n",
    "\n",
    "df = fill_na_num(df)"
   ]
  },
  {
   "cell_type": "code",
   "execution_count": null,
   "id": "749af8ac",
   "metadata": {},
   "outputs": [],
   "source": [
    "df[['Age', 'Fare']]"
   ]
  },
  {
   "cell_type": "markdown",
   "id": "5120e8bd",
   "metadata": {},
   "source": [
    "## Object features"
   ]
  },
  {
   "cell_type": "code",
   "execution_count": null,
   "id": "468f8447",
   "metadata": {},
   "outputs": [],
   "source": [
    "df[df.select_dtypes('object').columns]"
   ]
  },
  {
   "cell_type": "markdown",
   "id": "d8a43957",
   "metadata": {},
   "source": [
    "**Cabin feature**"
   ]
  },
  {
   "cell_type": "code",
   "execution_count": null,
   "id": "23695724",
   "metadata": {},
   "outputs": [],
   "source": [
    "df.Cabin.value_counts()"
   ]
  },
  {
   "cell_type": "code",
   "execution_count": null,
   "id": "a2b7e928",
   "metadata": {},
   "outputs": [],
   "source": [
    "def cabin_processor(df):\n",
    "    df['CabinChar'] = df.Cabin.str[:1]\n",
    "    df['CabinNum'] = df.Cabin.str[1:]\n",
    "    \n",
    "    # Replace NaN values with -1\n",
    "    df['CabinNum'] = df.CabinNum.fillna(-1)\n",
    "    df['CabinNum'] = df.CabinNum.astype('int')\n",
    "    \n",
    "    return df.drop('Cabin', axis=1)\n",
    "\n",
    "df = cabin_processor(df)"
   ]
  },
  {
   "cell_type": "code",
   "execution_count": null,
   "id": "b5952e41",
   "metadata": {},
   "outputs": [],
   "source": [
    "df[['CabinChar', 'CabinNum']]"
   ]
  },
  {
   "cell_type": "markdown",
   "id": "793ae774",
   "metadata": {},
   "source": [
    "**Name feature**"
   ]
  },
  {
   "cell_type": "code",
   "execution_count": null,
   "id": "e86831a9",
   "metadata": {},
   "outputs": [],
   "source": [
    "df.Name.value_counts()"
   ]
  },
  {
   "cell_type": "code",
   "execution_count": null,
   "id": "183c80b1",
   "metadata": {},
   "outputs": [],
   "source": [
    "# split the name feature into first name and second name\n",
    "def name_processor(df):\n",
    "    df['firstName'] = df.Name.str.split(',').str[-1]\n",
    "    df['secondName'] = df.Name.str.split(',').str[0]\n",
    "    \n",
    "    return df.drop('Name', axis=1)\n",
    "\n",
    "df = name_processor(df)"
   ]
  },
  {
   "cell_type": "code",
   "execution_count": null,
   "id": "1c91de21",
   "metadata": {},
   "outputs": [],
   "source": [
    "df[['firstName', 'secondName']]"
   ]
  },
  {
   "cell_type": "markdown",
   "id": "e380206a",
   "metadata": {},
   "source": [
    "**Ticket feature**"
   ]
  },
  {
   "cell_type": "code",
   "execution_count": null,
   "id": "6d7cec4c",
   "metadata": {},
   "outputs": [],
   "source": [
    "df.Ticket.str[:2].value_counts()"
   ]
  },
  {
   "cell_type": "code",
   "execution_count": null,
   "id": "4b1b565a",
   "metadata": {},
   "outputs": [],
   "source": [
    "def ticket_processor(df):\n",
    "    # take only two caracter of Ticket\n",
    "    df['Ticket'] = df.Ticket.str[:2]\n",
    "    return df\n",
    "\n",
    "df = ticket_processor(df)"
   ]
  },
  {
   "cell_type": "code",
   "execution_count": null,
   "id": "4f9878b6",
   "metadata": {},
   "outputs": [],
   "source": [
    "df[['Ticket']]"
   ]
  },
  {
   "cell_type": "markdown",
   "id": "8b3ff413",
   "metadata": {},
   "source": [
    "**NaN values**"
   ]
  },
  {
   "cell_type": "code",
   "execution_count": null,
   "id": "25559e45",
   "metadata": {},
   "outputs": [],
   "source": [
    "df[df.select_dtypes('object').columns].isna().sum()"
   ]
  },
  {
   "cell_type": "code",
   "execution_count": null,
   "id": "04570ad1",
   "metadata": {},
   "outputs": [],
   "source": [
    "# fillna embarked & Ticket features\n",
    "\n",
    "df['Embarked'] = df.Embarked.fillna(df.Embarked.mode().iloc[0])\n",
    "df['Ticket'] = df.Ticket.fillna(df.Ticket.mode().iloc[0])"
   ]
  },
  {
   "cell_type": "code",
   "execution_count": null,
   "id": "275ec00b",
   "metadata": {},
   "outputs": [],
   "source": [
    "df.CabinChar.value_counts()"
   ]
  },
  {
   "cell_type": "code",
   "execution_count": null,
   "id": "f87bf322",
   "metadata": {},
   "outputs": [],
   "source": [
    "def cabinChar_processor(df):\n",
    "    df.loc[df['CabinChar'].isnull(), 'CabinChar'] = np.random.choice(['A','B','C','D'], \n",
    "                                                                     size=df['CabinChar'].isnull().sum())\n",
    "    \n",
    "    return df\n",
    "\n",
    "df = cabinChar_processor(df) "
   ]
  },
  {
   "cell_type": "code",
   "execution_count": null,
   "id": "89e86b2e",
   "metadata": {},
   "outputs": [],
   "source": [
    "df.info()"
   ]
  },
  {
   "cell_type": "markdown",
   "id": "b05e3b87",
   "metadata": {},
   "source": [
    "**Encoding**"
   ]
  },
  {
   "cell_type": "code",
   "execution_count": null,
   "id": "a2231d92",
   "metadata": {},
   "outputs": [],
   "source": [
    "df[df.select_dtypes('object').columns].sample(5)"
   ]
  },
  {
   "cell_type": "code",
   "execution_count": null,
   "id": "9b4e671e",
   "metadata": {},
   "outputs": [],
   "source": [
    "def encoding_processor(df):\n",
    "    encoding_features = df.select_dtypes('object').columns\n",
    "    encoder = OrdinalEncoder()\n",
    "    \n",
    "    df[encoding_features] = encoder.fit_transform(df[encoding_features])\n",
    "    return df\n",
    "\n",
    "df = encoding_processor(df)"
   ]
  },
  {
   "cell_type": "markdown",
   "id": "0a2c4386",
   "metadata": {},
   "source": [
    "**Save new data**"
   ]
  },
  {
   "cell_type": "code",
   "execution_count": null,
   "id": "d1dd5488",
   "metadata": {},
   "outputs": [],
   "source": [
    "folder_path = '../data/'\n",
    "df.to_csv(folder_path + 'train_df_cleaned.csv', index=False)"
   ]
  },
  {
   "cell_type": "code",
   "execution_count": null,
   "id": "40050843",
   "metadata": {},
   "outputs": [],
   "source": []
  }
 ],
 "metadata": {
  "kernelspec": {
   "display_name": "Python 3 (ipykernel)",
   "language": "python",
   "name": "python3"
  },
  "language_info": {
   "codemirror_mode": {
    "name": "ipython",
    "version": 3
   },
   "file_extension": ".py",
   "mimetype": "text/x-python",
   "name": "python",
   "nbconvert_exporter": "python",
   "pygments_lexer": "ipython3",
   "version": "3.11.4"
  }
 },
 "nbformat": 4,
 "nbformat_minor": 5
}
