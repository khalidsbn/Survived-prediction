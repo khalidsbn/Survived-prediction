{
 "cells": [
  {
   "cell_type": "markdown",
   "id": "404a3caa",
   "metadata": {},
   "source": [
    "<img src='titanic.png'>"
   ]
  },
  {
   "cell_type": "markdown",
   "id": "5289e6f2",
   "metadata": {},
   "source": [
    "# Importing data"
   ]
  },
  {
   "cell_type": "code",
   "execution_count": 280,
   "id": "e0e2ef51",
   "metadata": {},
   "outputs": [],
   "source": [
    "import pandas as pd\n",
    "import numpy as np\n",
    "import seaborn as sns\n",
    "import matplotlib.pyplot as plt"
   ]
  },
  {
   "cell_type": "code",
   "execution_count": 220,
   "id": "f407aa96",
   "metadata": {},
   "outputs": [],
   "source": [
    "df = pd.read_csv('train.csv')"
   ]
  },
  {
   "cell_type": "code",
   "execution_count": 221,
   "id": "711e7b37",
   "metadata": {},
   "outputs": [
    {
     "data": {
      "text/html": [
       "<div>\n",
       "<style scoped>\n",
       "    .dataframe tbody tr th:only-of-type {\n",
       "        vertical-align: middle;\n",
       "    }\n",
       "\n",
       "    .dataframe tbody tr th {\n",
       "        vertical-align: top;\n",
       "    }\n",
       "\n",
       "    .dataframe thead th {\n",
       "        text-align: right;\n",
       "    }\n",
       "</style>\n",
       "<table border=\"1\" class=\"dataframe\">\n",
       "  <thead>\n",
       "    <tr style=\"text-align: right;\">\n",
       "      <th></th>\n",
       "      <th>PassengerId</th>\n",
       "      <th>Survived</th>\n",
       "      <th>Pclass</th>\n",
       "      <th>Name</th>\n",
       "      <th>Sex</th>\n",
       "      <th>Age</th>\n",
       "      <th>SibSp</th>\n",
       "      <th>Parch</th>\n",
       "      <th>Ticket</th>\n",
       "      <th>Fare</th>\n",
       "      <th>Cabin</th>\n",
       "      <th>Embarked</th>\n",
       "    </tr>\n",
       "  </thead>\n",
       "  <tbody>\n",
       "    <tr>\n",
       "      <th>0</th>\n",
       "      <td>0</td>\n",
       "      <td>1</td>\n",
       "      <td>1</td>\n",
       "      <td>Oconnor, Frankie</td>\n",
       "      <td>male</td>\n",
       "      <td>NaN</td>\n",
       "      <td>2</td>\n",
       "      <td>0</td>\n",
       "      <td>209245</td>\n",
       "      <td>27.14</td>\n",
       "      <td>C12239</td>\n",
       "      <td>S</td>\n",
       "    </tr>\n",
       "    <tr>\n",
       "      <th>1</th>\n",
       "      <td>1</td>\n",
       "      <td>0</td>\n",
       "      <td>3</td>\n",
       "      <td>Bryan, Drew</td>\n",
       "      <td>male</td>\n",
       "      <td>NaN</td>\n",
       "      <td>0</td>\n",
       "      <td>0</td>\n",
       "      <td>27323</td>\n",
       "      <td>13.35</td>\n",
       "      <td>NaN</td>\n",
       "      <td>S</td>\n",
       "    </tr>\n",
       "    <tr>\n",
       "      <th>2</th>\n",
       "      <td>2</td>\n",
       "      <td>0</td>\n",
       "      <td>3</td>\n",
       "      <td>Owens, Kenneth</td>\n",
       "      <td>male</td>\n",
       "      <td>0.33</td>\n",
       "      <td>1</td>\n",
       "      <td>2</td>\n",
       "      <td>CA 457703</td>\n",
       "      <td>71.29</td>\n",
       "      <td>NaN</td>\n",
       "      <td>S</td>\n",
       "    </tr>\n",
       "    <tr>\n",
       "      <th>3</th>\n",
       "      <td>3</td>\n",
       "      <td>0</td>\n",
       "      <td>3</td>\n",
       "      <td>Kramer, James</td>\n",
       "      <td>male</td>\n",
       "      <td>19.00</td>\n",
       "      <td>0</td>\n",
       "      <td>0</td>\n",
       "      <td>A. 10866</td>\n",
       "      <td>13.04</td>\n",
       "      <td>NaN</td>\n",
       "      <td>S</td>\n",
       "    </tr>\n",
       "    <tr>\n",
       "      <th>4</th>\n",
       "      <td>4</td>\n",
       "      <td>1</td>\n",
       "      <td>3</td>\n",
       "      <td>Bond, Michael</td>\n",
       "      <td>male</td>\n",
       "      <td>25.00</td>\n",
       "      <td>0</td>\n",
       "      <td>0</td>\n",
       "      <td>427635</td>\n",
       "      <td>7.76</td>\n",
       "      <td>NaN</td>\n",
       "      <td>S</td>\n",
       "    </tr>\n",
       "    <tr>\n",
       "      <th>...</th>\n",
       "      <td>...</td>\n",
       "      <td>...</td>\n",
       "      <td>...</td>\n",
       "      <td>...</td>\n",
       "      <td>...</td>\n",
       "      <td>...</td>\n",
       "      <td>...</td>\n",
       "      <td>...</td>\n",
       "      <td>...</td>\n",
       "      <td>...</td>\n",
       "      <td>...</td>\n",
       "      <td>...</td>\n",
       "    </tr>\n",
       "    <tr>\n",
       "      <th>99995</th>\n",
       "      <td>99995</td>\n",
       "      <td>1</td>\n",
       "      <td>2</td>\n",
       "      <td>Bell, Adele</td>\n",
       "      <td>female</td>\n",
       "      <td>62.00</td>\n",
       "      <td>0</td>\n",
       "      <td>0</td>\n",
       "      <td>PC 15008</td>\n",
       "      <td>14.86</td>\n",
       "      <td>D17243</td>\n",
       "      <td>C</td>\n",
       "    </tr>\n",
       "    <tr>\n",
       "      <th>99996</th>\n",
       "      <td>99996</td>\n",
       "      <td>0</td>\n",
       "      <td>2</td>\n",
       "      <td>Brown, Herman</td>\n",
       "      <td>male</td>\n",
       "      <td>66.00</td>\n",
       "      <td>0</td>\n",
       "      <td>0</td>\n",
       "      <td>13273</td>\n",
       "      <td>11.15</td>\n",
       "      <td>NaN</td>\n",
       "      <td>S</td>\n",
       "    </tr>\n",
       "    <tr>\n",
       "      <th>99997</th>\n",
       "      <td>99997</td>\n",
       "      <td>0</td>\n",
       "      <td>3</td>\n",
       "      <td>Childress, Charles</td>\n",
       "      <td>male</td>\n",
       "      <td>37.00</td>\n",
       "      <td>0</td>\n",
       "      <td>0</td>\n",
       "      <td>NaN</td>\n",
       "      <td>9.95</td>\n",
       "      <td>NaN</td>\n",
       "      <td>S</td>\n",
       "    </tr>\n",
       "    <tr>\n",
       "      <th>99998</th>\n",
       "      <td>99998</td>\n",
       "      <td>0</td>\n",
       "      <td>3</td>\n",
       "      <td>Caughlin, Thomas</td>\n",
       "      <td>male</td>\n",
       "      <td>51.00</td>\n",
       "      <td>0</td>\n",
       "      <td>1</td>\n",
       "      <td>458654</td>\n",
       "      <td>30.92</td>\n",
       "      <td>NaN</td>\n",
       "      <td>S</td>\n",
       "    </tr>\n",
       "    <tr>\n",
       "      <th>99999</th>\n",
       "      <td>99999</td>\n",
       "      <td>0</td>\n",
       "      <td>3</td>\n",
       "      <td>Enciso, Tyler</td>\n",
       "      <td>male</td>\n",
       "      <td>55.00</td>\n",
       "      <td>0</td>\n",
       "      <td>0</td>\n",
       "      <td>458074</td>\n",
       "      <td>13.96</td>\n",
       "      <td>NaN</td>\n",
       "      <td>S</td>\n",
       "    </tr>\n",
       "  </tbody>\n",
       "</table>\n",
       "<p>100000 rows × 12 columns</p>\n",
       "</div>"
      ],
      "text/plain": [
       "       PassengerId  Survived  Pclass                Name     Sex    Age  \\\n",
       "0                0         1       1    Oconnor, Frankie    male    NaN   \n",
       "1                1         0       3         Bryan, Drew    male    NaN   \n",
       "2                2         0       3      Owens, Kenneth    male   0.33   \n",
       "3                3         0       3       Kramer, James    male  19.00   \n",
       "4                4         1       3       Bond, Michael    male  25.00   \n",
       "...            ...       ...     ...                 ...     ...    ...   \n",
       "99995        99995         1       2         Bell, Adele  female  62.00   \n",
       "99996        99996         0       2       Brown, Herman    male  66.00   \n",
       "99997        99997         0       3  Childress, Charles    male  37.00   \n",
       "99998        99998         0       3    Caughlin, Thomas    male  51.00   \n",
       "99999        99999         0       3       Enciso, Tyler    male  55.00   \n",
       "\n",
       "       SibSp  Parch     Ticket   Fare   Cabin Embarked  \n",
       "0          2      0     209245  27.14  C12239        S  \n",
       "1          0      0      27323  13.35     NaN        S  \n",
       "2          1      2  CA 457703  71.29     NaN        S  \n",
       "3          0      0   A. 10866  13.04     NaN        S  \n",
       "4          0      0     427635   7.76     NaN        S  \n",
       "...      ...    ...        ...    ...     ...      ...  \n",
       "99995      0      0   PC 15008  14.86  D17243        C  \n",
       "99996      0      0      13273  11.15     NaN        S  \n",
       "99997      0      0        NaN   9.95     NaN        S  \n",
       "99998      0      1     458654  30.92     NaN        S  \n",
       "99999      0      0     458074  13.96     NaN        S  \n",
       "\n",
       "[100000 rows x 12 columns]"
      ]
     },
     "execution_count": 221,
     "metadata": {},
     "output_type": "execute_result"
    }
   ],
   "source": [
    "df"
   ]
  },
  {
   "cell_type": "code",
   "execution_count": 222,
   "id": "aacfa516",
   "metadata": {},
   "outputs": [],
   "source": [
    "df = df.drop('PassengerId', axis=1)"
   ]
  },
  {
   "cell_type": "code",
   "execution_count": 223,
   "id": "a1a65168",
   "metadata": {},
   "outputs": [
    {
     "name": "stdout",
     "output_type": "stream",
     "text": [
      "<class 'pandas.core.frame.DataFrame'>\n",
      "RangeIndex: 100000 entries, 0 to 99999\n",
      "Data columns (total 11 columns):\n",
      " #   Column    Non-Null Count   Dtype  \n",
      "---  ------    --------------   -----  \n",
      " 0   Survived  100000 non-null  int64  \n",
      " 1   Pclass    100000 non-null  int64  \n",
      " 2   Name      100000 non-null  object \n",
      " 3   Sex       100000 non-null  object \n",
      " 4   Age       96708 non-null   float64\n",
      " 5   SibSp     100000 non-null  int64  \n",
      " 6   Parch     100000 non-null  int64  \n",
      " 7   Ticket    95377 non-null   object \n",
      " 8   Fare      99866 non-null   float64\n",
      " 9   Cabin     32134 non-null   object \n",
      " 10  Embarked  99750 non-null   object \n",
      "dtypes: float64(2), int64(4), object(5)\n",
      "memory usage: 8.4+ MB\n"
     ]
    }
   ],
   "source": [
    "df.info()"
   ]
  },
  {
   "cell_type": "code",
   "execution_count": 224,
   "id": "12606307",
   "metadata": {},
   "outputs": [
    {
     "data": {
      "text/plain": [
       "Survived        0\n",
       "Pclass          0\n",
       "Name            0\n",
       "Sex             0\n",
       "Age          3292\n",
       "SibSp           0\n",
       "Parch           0\n",
       "Ticket       4623\n",
       "Fare          134\n",
       "Cabin       67866\n",
       "Embarked      250\n",
       "dtype: int64"
      ]
     },
     "execution_count": 224,
     "metadata": {},
     "output_type": "execute_result"
    }
   ],
   "source": [
    "df.isna().sum()"
   ]
  },
  {
   "cell_type": "code",
   "execution_count": 225,
   "id": "1f85060d",
   "metadata": {},
   "outputs": [
    {
     "data": {
      "text/html": [
       "<div>\n",
       "<style scoped>\n",
       "    .dataframe tbody tr th:only-of-type {\n",
       "        vertical-align: middle;\n",
       "    }\n",
       "\n",
       "    .dataframe tbody tr th {\n",
       "        vertical-align: top;\n",
       "    }\n",
       "\n",
       "    .dataframe thead th {\n",
       "        text-align: right;\n",
       "    }\n",
       "</style>\n",
       "<table border=\"1\" class=\"dataframe\">\n",
       "  <thead>\n",
       "    <tr style=\"text-align: right;\">\n",
       "      <th></th>\n",
       "      <th>Survived</th>\n",
       "      <th>Pclass</th>\n",
       "      <th>Age</th>\n",
       "      <th>SibSp</th>\n",
       "      <th>Parch</th>\n",
       "      <th>Fare</th>\n",
       "    </tr>\n",
       "  </thead>\n",
       "  <tbody>\n",
       "    <tr>\n",
       "      <th>count</th>\n",
       "      <td>100000.000000</td>\n",
       "      <td>100000.000000</td>\n",
       "      <td>96708.000000</td>\n",
       "      <td>100000.000000</td>\n",
       "      <td>100000.000000</td>\n",
       "      <td>99866.00000</td>\n",
       "    </tr>\n",
       "    <tr>\n",
       "      <th>mean</th>\n",
       "      <td>0.427740</td>\n",
       "      <td>2.106910</td>\n",
       "      <td>38.355472</td>\n",
       "      <td>0.397690</td>\n",
       "      <td>0.454560</td>\n",
       "      <td>43.92933</td>\n",
       "    </tr>\n",
       "    <tr>\n",
       "      <th>std</th>\n",
       "      <td>0.494753</td>\n",
       "      <td>0.837727</td>\n",
       "      <td>18.313556</td>\n",
       "      <td>0.862566</td>\n",
       "      <td>0.950076</td>\n",
       "      <td>69.58882</td>\n",
       "    </tr>\n",
       "    <tr>\n",
       "      <th>min</th>\n",
       "      <td>0.000000</td>\n",
       "      <td>1.000000</td>\n",
       "      <td>0.080000</td>\n",
       "      <td>0.000000</td>\n",
       "      <td>0.000000</td>\n",
       "      <td>0.68000</td>\n",
       "    </tr>\n",
       "    <tr>\n",
       "      <th>25%</th>\n",
       "      <td>0.000000</td>\n",
       "      <td>1.000000</td>\n",
       "      <td>25.000000</td>\n",
       "      <td>0.000000</td>\n",
       "      <td>0.000000</td>\n",
       "      <td>10.04000</td>\n",
       "    </tr>\n",
       "    <tr>\n",
       "      <th>50%</th>\n",
       "      <td>0.000000</td>\n",
       "      <td>2.000000</td>\n",
       "      <td>39.000000</td>\n",
       "      <td>0.000000</td>\n",
       "      <td>0.000000</td>\n",
       "      <td>24.46000</td>\n",
       "    </tr>\n",
       "    <tr>\n",
       "      <th>75%</th>\n",
       "      <td>1.000000</td>\n",
       "      <td>3.000000</td>\n",
       "      <td>53.000000</td>\n",
       "      <td>1.000000</td>\n",
       "      <td>1.000000</td>\n",
       "      <td>33.50000</td>\n",
       "    </tr>\n",
       "    <tr>\n",
       "      <th>max</th>\n",
       "      <td>1.000000</td>\n",
       "      <td>3.000000</td>\n",
       "      <td>87.000000</td>\n",
       "      <td>8.000000</td>\n",
       "      <td>9.000000</td>\n",
       "      <td>744.66000</td>\n",
       "    </tr>\n",
       "  </tbody>\n",
       "</table>\n",
       "</div>"
      ],
      "text/plain": [
       "            Survived         Pclass           Age          SibSp  \\\n",
       "count  100000.000000  100000.000000  96708.000000  100000.000000   \n",
       "mean        0.427740       2.106910     38.355472       0.397690   \n",
       "std         0.494753       0.837727     18.313556       0.862566   \n",
       "min         0.000000       1.000000      0.080000       0.000000   \n",
       "25%         0.000000       1.000000     25.000000       0.000000   \n",
       "50%         0.000000       2.000000     39.000000       0.000000   \n",
       "75%         1.000000       3.000000     53.000000       1.000000   \n",
       "max         1.000000       3.000000     87.000000       8.000000   \n",
       "\n",
       "               Parch         Fare  \n",
       "count  100000.000000  99866.00000  \n",
       "mean        0.454560     43.92933  \n",
       "std         0.950076     69.58882  \n",
       "min         0.000000      0.68000  \n",
       "25%         0.000000     10.04000  \n",
       "50%         0.000000     24.46000  \n",
       "75%         1.000000     33.50000  \n",
       "max         9.000000    744.66000  "
      ]
     },
     "execution_count": 225,
     "metadata": {},
     "output_type": "execute_result"
    }
   ],
   "source": [
    "df.describe()"
   ]
  },
  {
   "cell_type": "markdown",
   "id": "e727c091",
   "metadata": {},
   "source": [
    "# Exploring data"
   ]
  },
  {
   "cell_type": "code",
   "execution_count": 226,
   "id": "59a98685",
   "metadata": {},
   "outputs": [
    {
     "data": {
      "image/png": "[encoded data removed]",
      "text/plain": [
       "<Figure size 1000x600 with 1 Axes>"
      ]
     },
     "metadata": {},
     "output_type": "display_data"
    }
   ],
   "source": [
    "#df.Age.value_counts().plot(kind='hist');\n",
    "sns.violinplot(x='Survived', y='Age', data=df);"
   ]
  },
  {
   "cell_type": "code",
   "execution_count": 227,
   "id": "62597613",
   "metadata": {},
   "outputs": [
    {
     "data": {
      "image/png": "[encoded data removed]",
      "text/plain": [
       "<Figure size 1000x600 with 1 Axes>"
      ]
     },
     "metadata": {},
     "output_type": "display_data"
    }
   ],
   "source": [
    "sns.countplot(df, x='Sex', hue='Survived');"
   ]
  },
  {
   "cell_type": "code",
   "execution_count": 228,
   "id": "c8b44ba2",
   "metadata": {},
   "outputs": [
    {
     "data": {
      "image/png": "[encoded data removed]",
      "text/plain": [
       "<Figure size 1000x600 with 1 Axes>"
      ]
     },
     "metadata": {},
     "output_type": "display_data"
    }
   ],
   "source": [
    "sns.countplot(df, x='Pclass', hue='Survived');\n",
    "plt.title('1 = 1st, 2 = 2nd, 3 = 3rd (Class)');"
   ]
  },
  {
   "cell_type": "code",
   "execution_count": 229,
   "id": "fe48acb2",
   "metadata": {},
   "outputs": [
    {
     "data": {
      "text/plain": [
       "0    73308\n",
       "1    19758\n",
       "2     3703\n",
       "3     1635\n",
       "4     1168\n",
       "8      296\n",
       "5      132\n",
       "Name: SibSp, dtype: int64"
      ]
     },
     "execution_count": 229,
     "metadata": {},
     "output_type": "execute_result"
    }
   ],
   "source": [
    "df.SibSp.value_counts()"
   ]
  },
  {
   "cell_type": "code",
   "execution_count": 230,
   "id": "68075dfc",
   "metadata": {},
   "outputs": [],
   "source": [
    "df.SibSp = df.SibSp.replace([4,5,8], 3)"
   ]
  },
  {
   "cell_type": "code",
   "execution_count": 231,
   "id": "f5e9e120",
   "metadata": {},
   "outputs": [
    {
     "data": {
      "image/png": "[encoded data removed]",
      "text/plain": [
       "<Figure size 1000x600 with 1 Axes>"
      ]
     },
     "metadata": {},
     "output_type": "display_data"
    }
   ],
   "source": [
    "sns.countplot(df, x='SibSp', hue='Survived');\n",
    "plt.title('Number of Siblings for passengers:');"
   ]
  },
  {
   "cell_type": "code",
   "execution_count": 232,
   "id": "01f85539",
   "metadata": {},
   "outputs": [],
   "source": [
    "df.Parch = df.Parch.replace([4,5,6,9],3)"
   ]
  },
  {
   "cell_type": "code",
   "execution_count": 233,
   "id": "35ae2f13",
   "metadata": {},
   "outputs": [
    {
     "data": {
      "image/png": "[encoded data removed]",
      "text/plain": [
       "<Figure size 1000x600 with 1 Axes>"
      ]
     },
     "metadata": {},
     "output_type": "display_data"
    }
   ],
   "source": [
    "sns.countplot(df, x='Parch', hue='Survived');\n",
    "plt.title('How many children that parents have');"
   ]
  },
  {
   "cell_type": "code",
   "execution_count": 234,
   "id": "1bc025c5",
   "metadata": {},
   "outputs": [
    {
     "data": {
      "image/png": "[encoded data removed]",
      "text/plain": [
       "<Figure size 1000x600 with 1 Axes>"
      ]
     },
     "metadata": {},
     "output_type": "display_data"
    }
   ],
   "source": [
    "sns.countplot(df, x='Embarked', hue='Survived');\n",
    "plt.title('Port of Embarkation\\nC = Cherbourg, Q = Queenstown, S = Southampton');"
   ]
  },
  {
   "cell_type": "markdown",
   "id": "e427f19c",
   "metadata": {},
   "source": [
    "# Data processing"
   ]
  },
  {
   "cell_type": "code",
   "execution_count": 235,
   "id": "ce167b1c",
   "metadata": {},
   "outputs": [
    {
     "data": {
      "text/plain": [
       "Index(['Survived', 'Pclass', 'Name', 'Sex', 'Age', 'SibSp', 'Parch', 'Ticket',\n",
       "       'Fare', 'Cabin', 'Embarked'],\n",
       "      dtype='object')"
      ]
     },
     "execution_count": 235,
     "metadata": {},
     "output_type": "execute_result"
    }
   ],
   "source": [
    "df.columns"
   ]
  },
  {
   "cell_type": "code",
   "execution_count": 236,
   "id": "d3070144",
   "metadata": {},
   "outputs": [
    {
     "data": {
      "text/plain": [
       "C19828    6\n",
       "C6906     5\n",
       "C13699    5\n",
       "C14534    5\n",
       "B11110    5\n",
       "         ..\n",
       "A21234    1\n",
       "A4905     1\n",
       "C7208     1\n",
       "A5788     1\n",
       "D17243    1\n",
       "Name: Cabin, Length: 26992, dtype: int64"
      ]
     },
     "execution_count": 236,
     "metadata": {},
     "output_type": "execute_result"
    }
   ],
   "source": [
    "df.Cabin.value_counts()"
   ]
  },
  {
   "cell_type": "code",
   "execution_count": 237,
   "id": "223f071e",
   "metadata": {},
   "outputs": [],
   "source": [
    "df['CabinChar'] = df['Cabin'].str[:1]\n",
    "df['CabinNum'] = df['Cabin'].str[1:]\n",
    "\n",
    "df = df.drop('Cabin', axis=1)"
   ]
  },
  {
   "cell_type": "code",
   "execution_count": 238,
   "id": "e21510fc",
   "metadata": {},
   "outputs": [],
   "source": [
    "df['CabinNum'] = df['CabinNum'].fillna(-1)\n",
    "df['CabinNum'] = df['CabinNum'].astype('int')\n",
    "\n",
    "df['CabinNum'] = df['CabinNum'].replace(-1, np.nan)"
   ]
  },
  {
   "cell_type": "markdown",
   "id": "8e1bee9f",
   "metadata": {},
   "source": [
    "## Numerical data"
   ]
  },
  {
   "cell_type": "code",
   "execution_count": 239,
   "id": "42086cdb",
   "metadata": {},
   "outputs": [],
   "source": [
    "df['CabinNum'] = df['CabinNum'].replace(np.nan, df.CabinNum.mean())"
   ]
  },
  {
   "cell_type": "code",
   "execution_count": 240,
   "id": "2961cb3d",
   "metadata": {},
   "outputs": [],
   "source": [
    "num_cols = df.select_dtypes('number').columns"
   ]
  },
  {
   "cell_type": "code",
   "execution_count": 241,
   "id": "1d073e97",
   "metadata": {},
   "outputs": [
    {
     "data": {
      "text/plain": [
       "Survived       0\n",
       "Pclass         0\n",
       "Age         3292\n",
       "SibSp          0\n",
       "Parch          0\n",
       "Fare         134\n",
       "CabinNum       0\n",
       "dtype: int64"
      ]
     },
     "execution_count": 241,
     "metadata": {},
     "output_type": "execute_result"
    }
   ],
   "source": [
    "df[num_cols].isna().sum()"
   ]
  },
  {
   "cell_type": "code",
   "execution_count": 242,
   "id": "2305bf60",
   "metadata": {},
   "outputs": [],
   "source": [
    "df.Age = df.Age.replace(np.nan, df.Age.mean())\n",
    "df.Fare = df.Fare.replace(np.nan, df.Fare.mean())"
   ]
  },
  {
   "cell_type": "code",
   "execution_count": 243,
   "id": "43a64860",
   "metadata": {},
   "outputs": [
    {
     "data": {
      "text/html": [
       "<div>\n",
       "<style scoped>\n",
       "    .dataframe tbody tr th:only-of-type {\n",
       "        vertical-align: middle;\n",
       "    }\n",
       "\n",
       "    .dataframe tbody tr th {\n",
       "        vertical-align: top;\n",
       "    }\n",
       "\n",
       "    .dataframe thead th {\n",
       "        text-align: right;\n",
       "    }\n",
       "</style>\n",
       "<table border=\"1\" class=\"dataframe\">\n",
       "  <thead>\n",
       "    <tr style=\"text-align: right;\">\n",
       "      <th></th>\n",
       "      <th>Survived</th>\n",
       "      <th>Pclass</th>\n",
       "      <th>Age</th>\n",
       "      <th>SibSp</th>\n",
       "      <th>Parch</th>\n",
       "      <th>Fare</th>\n",
       "      <th>CabinNum</th>\n",
       "    </tr>\n",
       "  </thead>\n",
       "  <tbody>\n",
       "    <tr>\n",
       "      <th>0</th>\n",
       "      <td>1</td>\n",
       "      <td>1</td>\n",
       "      <td>38.355472</td>\n",
       "      <td>2</td>\n",
       "      <td>0</td>\n",
       "      <td>27.14</td>\n",
       "      <td>12239.000000</td>\n",
       "    </tr>\n",
       "    <tr>\n",
       "      <th>1</th>\n",
       "      <td>0</td>\n",
       "      <td>3</td>\n",
       "      <td>38.355472</td>\n",
       "      <td>0</td>\n",
       "      <td>0</td>\n",
       "      <td>13.35</td>\n",
       "      <td>12558.836839</td>\n",
       "    </tr>\n",
       "    <tr>\n",
       "      <th>2</th>\n",
       "      <td>0</td>\n",
       "      <td>3</td>\n",
       "      <td>0.330000</td>\n",
       "      <td>1</td>\n",
       "      <td>2</td>\n",
       "      <td>71.29</td>\n",
       "      <td>12558.836839</td>\n",
       "    </tr>\n",
       "    <tr>\n",
       "      <th>3</th>\n",
       "      <td>0</td>\n",
       "      <td>3</td>\n",
       "      <td>19.000000</td>\n",
       "      <td>0</td>\n",
       "      <td>0</td>\n",
       "      <td>13.04</td>\n",
       "      <td>12558.836839</td>\n",
       "    </tr>\n",
       "    <tr>\n",
       "      <th>4</th>\n",
       "      <td>1</td>\n",
       "      <td>3</td>\n",
       "      <td>25.000000</td>\n",
       "      <td>0</td>\n",
       "      <td>0</td>\n",
       "      <td>7.76</td>\n",
       "      <td>12558.836839</td>\n",
       "    </tr>\n",
       "    <tr>\n",
       "      <th>...</th>\n",
       "      <td>...</td>\n",
       "      <td>...</td>\n",
       "      <td>...</td>\n",
       "      <td>...</td>\n",
       "      <td>...</td>\n",
       "      <td>...</td>\n",
       "      <td>...</td>\n",
       "    </tr>\n",
       "    <tr>\n",
       "      <th>99995</th>\n",
       "      <td>1</td>\n",
       "      <td>2</td>\n",
       "      <td>62.000000</td>\n",
       "      <td>0</td>\n",
       "      <td>0</td>\n",
       "      <td>14.86</td>\n",
       "      <td>17243.000000</td>\n",
       "    </tr>\n",
       "    <tr>\n",
       "      <th>99996</th>\n",
       "      <td>0</td>\n",
       "      <td>2</td>\n",
       "      <td>66.000000</td>\n",
       "      <td>0</td>\n",
       "      <td>0</td>\n",
       "      <td>11.15</td>\n",
       "      <td>12558.836839</td>\n",
       "    </tr>\n",
       "    <tr>\n",
       "      <th>99997</th>\n",
       "      <td>0</td>\n",
       "      <td>3</td>\n",
       "      <td>37.000000</td>\n",
       "      <td>0</td>\n",
       "      <td>0</td>\n",
       "      <td>9.95</td>\n",
       "      <td>12558.836839</td>\n",
       "    </tr>\n",
       "    <tr>\n",
       "      <th>99998</th>\n",
       "      <td>0</td>\n",
       "      <td>3</td>\n",
       "      <td>51.000000</td>\n",
       "      <td>0</td>\n",
       "      <td>1</td>\n",
       "      <td>30.92</td>\n",
       "      <td>12558.836839</td>\n",
       "    </tr>\n",
       "    <tr>\n",
       "      <th>99999</th>\n",
       "      <td>0</td>\n",
       "      <td>3</td>\n",
       "      <td>55.000000</td>\n",
       "      <td>0</td>\n",
       "      <td>0</td>\n",
       "      <td>13.96</td>\n",
       "      <td>12558.836839</td>\n",
       "    </tr>\n",
       "  </tbody>\n",
       "</table>\n",
       "<p>100000 rows × 7 columns</p>\n",
       "</div>"
      ],
      "text/plain": [
       "       Survived  Pclass        Age  SibSp  Parch   Fare      CabinNum\n",
       "0             1       1  38.355472      2      0  27.14  12239.000000\n",
       "1             0       3  38.355472      0      0  13.35  12558.836839\n",
       "2             0       3   0.330000      1      2  71.29  12558.836839\n",
       "3             0       3  19.000000      0      0  13.04  12558.836839\n",
       "4             1       3  25.000000      0      0   7.76  12558.836839\n",
       "...         ...     ...        ...    ...    ...    ...           ...\n",
       "99995         1       2  62.000000      0      0  14.86  17243.000000\n",
       "99996         0       2  66.000000      0      0  11.15  12558.836839\n",
       "99997         0       3  37.000000      0      0   9.95  12558.836839\n",
       "99998         0       3  51.000000      0      1  30.92  12558.836839\n",
       "99999         0       3  55.000000      0      0  13.96  12558.836839\n",
       "\n",
       "[100000 rows x 7 columns]"
      ]
     },
     "execution_count": 243,
     "metadata": {},
     "output_type": "execute_result"
    }
   ],
   "source": [
    "df[num_cols]"
   ]
  },
  {
   "cell_type": "code",
   "execution_count": 244,
   "id": "a0f839e8",
   "metadata": {},
   "outputs": [
    {
     "data": {
      "text/html": [
       "<style type=\"text/css\">\n",
       "#T_8f7be_row0_col0, #T_8f7be_row1_col1, #T_8f7be_row2_col2, #T_8f7be_row3_col3, #T_8f7be_row4_col4, #T_8f7be_row5_col5, #T_8f7be_row6_col6 {\n",
       "  background-color: #b40426;\n",
       "  color: #f1f1f1;\n",
       "}\n",
       "#T_8f7be_row0_col1 {\n",
       "  background-color: #5673e0;\n",
       "  color: #f1f1f1;\n",
       "}\n",
       "#T_8f7be_row0_col2 {\n",
       "  background-color: #98b9ff;\n",
       "  color: #000000;\n",
       "}\n",
       "#T_8f7be_row0_col3, #T_8f7be_row6_col3 {\n",
       "  background-color: #5977e3;\n",
       "  color: #f1f1f1;\n",
       "}\n",
       "#T_8f7be_row0_col4 {\n",
       "  background-color: #6c8ff1;\n",
       "  color: #f1f1f1;\n",
       "}\n",
       "#T_8f7be_row0_col5 {\n",
       "  background-color: #c9d7f0;\n",
       "  color: #000000;\n",
       "}\n",
       "#T_8f7be_row0_col6, #T_8f7be_row2_col6 {\n",
       "  background-color: #3d50c3;\n",
       "  color: #f1f1f1;\n",
       "}\n",
       "#T_8f7be_row1_col0, #T_8f7be_row1_col2, #T_8f7be_row1_col5, #T_8f7be_row2_col3, #T_8f7be_row2_col4, #T_8f7be_row4_col6, #T_8f7be_row5_col1 {\n",
       "  background-color: #3b4cc0;\n",
       "  color: #f1f1f1;\n",
       "}\n",
       "#T_8f7be_row1_col3 {\n",
       "  background-color: #465ecf;\n",
       "  color: #f1f1f1;\n",
       "}\n",
       "#T_8f7be_row1_col4, #T_8f7be_row4_col2 {\n",
       "  background-color: #5470de;\n",
       "  color: #f1f1f1;\n",
       "}\n",
       "#T_8f7be_row1_col6, #T_8f7be_row5_col6 {\n",
       "  background-color: #3e51c5;\n",
       "  color: #f1f1f1;\n",
       "}\n",
       "#T_8f7be_row2_col0 {\n",
       "  background-color: #9fbfff;\n",
       "  color: #000000;\n",
       "}\n",
       "#T_8f7be_row2_col1 {\n",
       "  background-color: #5e7de7;\n",
       "  color: #f1f1f1;\n",
       "}\n",
       "#T_8f7be_row2_col5, #T_8f7be_row5_col0 {\n",
       "  background-color: #b6cefa;\n",
       "  color: #000000;\n",
       "}\n",
       "#T_8f7be_row3_col0 {\n",
       "  background-color: #82a6fb;\n",
       "  color: #f1f1f1;\n",
       "}\n",
       "#T_8f7be_row3_col1 {\n",
       "  background-color: #8badfd;\n",
       "  color: #000000;\n",
       "}\n",
       "#T_8f7be_row3_col2 {\n",
       "  background-color: #5d7ce6;\n",
       "  color: #f1f1f1;\n",
       "}\n",
       "#T_8f7be_row3_col4 {\n",
       "  background-color: #bad0f8;\n",
       "  color: #000000;\n",
       "}\n",
       "#T_8f7be_row3_col5, #T_8f7be_row4_col5 {\n",
       "  background-color: #aec9fc;\n",
       "  color: #000000;\n",
       "}\n",
       "#T_8f7be_row3_col6 {\n",
       "  background-color: #3c4ec2;\n",
       "  color: #f1f1f1;\n",
       "}\n",
       "#T_8f7be_row4_col0 {\n",
       "  background-color: #8caffe;\n",
       "  color: #000000;\n",
       "}\n",
       "#T_8f7be_row4_col1 {\n",
       "  background-color: #8fb1fe;\n",
       "  color: #000000;\n",
       "}\n",
       "#T_8f7be_row4_col3 {\n",
       "  background-color: #b3cdfb;\n",
       "  color: #000000;\n",
       "}\n",
       "#T_8f7be_row5_col2 {\n",
       "  background-color: #9abbff;\n",
       "  color: #000000;\n",
       "}\n",
       "#T_8f7be_row5_col3 {\n",
       "  background-color: #7093f3;\n",
       "  color: #f1f1f1;\n",
       "}\n",
       "#T_8f7be_row5_col4 {\n",
       "  background-color: #7a9df8;\n",
       "  color: #f1f1f1;\n",
       "}\n",
       "#T_8f7be_row6_col0 {\n",
       "  background-color: #84a7fc;\n",
       "  color: #f1f1f1;\n",
       "}\n",
       "#T_8f7be_row6_col1, #T_8f7be_row6_col5 {\n",
       "  background-color: #9dbdff;\n",
       "  color: #000000;\n",
       "}\n",
       "#T_8f7be_row6_col2 {\n",
       "  background-color: #7b9ff9;\n",
       "  color: #f1f1f1;\n",
       "}\n",
       "#T_8f7be_row6_col4 {\n",
       "  background-color: #5f7fe8;\n",
       "  color: #f1f1f1;\n",
       "}\n",
       "</style>\n",
       "<table id=\"T_8f7be\">\n",
       "  <thead>\n",
       "    <tr>\n",
       "      <th class=\"blank level0\" >&nbsp;</th>\n",
       "      <th id=\"T_8f7be_level0_col0\" class=\"col_heading level0 col0\" >Survived</th>\n",
       "      <th id=\"T_8f7be_level0_col1\" class=\"col_heading level0 col1\" >Pclass</th>\n",
       "      <th id=\"T_8f7be_level0_col2\" class=\"col_heading level0 col2\" >Age</th>\n",
       "      <th id=\"T_8f7be_level0_col3\" class=\"col_heading level0 col3\" >SibSp</th>\n",
       "      <th id=\"T_8f7be_level0_col4\" class=\"col_heading level0 col4\" >Parch</th>\n",
       "      <th id=\"T_8f7be_level0_col5\" class=\"col_heading level0 col5\" >Fare</th>\n",
       "      <th id=\"T_8f7be_level0_col6\" class=\"col_heading level0 col6\" >CabinNum</th>\n",
       "    </tr>\n",
       "  </thead>\n",
       "  <tbody>\n",
       "    <tr>\n",
       "      <th id=\"T_8f7be_level0_row0\" class=\"row_heading level0 row0\" >Survived</th>\n",
       "      <td id=\"T_8f7be_row0_col0\" class=\"data row0 col0\" >1.000000</td>\n",
       "      <td id=\"T_8f7be_row0_col1\" class=\"data row0 col1\" >-0.289723</td>\n",
       "      <td id=\"T_8f7be_row0_col2\" class=\"data row0 col2\" >0.102186</td>\n",
       "      <td id=\"T_8f7be_row0_col3\" class=\"data row0 col3\" >-0.003920</td>\n",
       "      <td id=\"T_8f7be_row0_col4\" class=\"data row0 col4\" >0.030835</td>\n",
       "      <td id=\"T_8f7be_row0_col5\" class=\"data row0 col5\" >0.187407</td>\n",
       "      <td id=\"T_8f7be_row0_col6\" class=\"data row0 col6\" >-0.001102</td>\n",
       "    </tr>\n",
       "    <tr>\n",
       "      <th id=\"T_8f7be_level0_row1\" class=\"row_heading level0 row1\" >Pclass</th>\n",
       "      <td id=\"T_8f7be_row1_col0\" class=\"data row1 col0\" >-0.289723</td>\n",
       "      <td id=\"T_8f7be_row1_col1\" class=\"data row1 col1\" >1.000000</td>\n",
       "      <td id=\"T_8f7be_row1_col2\" class=\"data row1 col2\" >-0.254843</td>\n",
       "      <td id=\"T_8f7be_row1_col3\" class=\"data row1 col3\" >-0.071707</td>\n",
       "      <td id=\"T_8f7be_row1_col4\" class=\"data row1 col4\" >-0.052383</td>\n",
       "      <td id=\"T_8f7be_row1_col5\" class=\"data row1 col5\" >-0.417084</td>\n",
       "      <td id=\"T_8f7be_row1_col6\" class=\"data row1 col6\" >0.000681</td>\n",
       "    </tr>\n",
       "    <tr>\n",
       "      <th id=\"T_8f7be_level0_row2\" class=\"row_heading level0 row2\" >Age</th>\n",
       "      <td id=\"T_8f7be_row2_col0\" class=\"data row2 col0\" >0.102186</td>\n",
       "      <td id=\"T_8f7be_row2_col1\" class=\"data row2 col1\" >-0.254843</td>\n",
       "      <td id=\"T_8f7be_row2_col2\" class=\"data row2 col2\" >1.000000</td>\n",
       "      <td id=\"T_8f7be_row2_col3\" class=\"data row2 col3\" >-0.116484</td>\n",
       "      <td id=\"T_8f7be_row2_col4\" class=\"data row2 col4\" >-0.150988</td>\n",
       "      <td id=\"T_8f7be_row2_col5\" class=\"data row2 col5\" >0.107210</td>\n",
       "      <td id=\"T_8f7be_row2_col6\" class=\"data row2 col6\" >-0.001443</td>\n",
       "    </tr>\n",
       "    <tr>\n",
       "      <th id=\"T_8f7be_level0_row3\" class=\"row_heading level0 row3\" >SibSp</th>\n",
       "      <td id=\"T_8f7be_row3_col0\" class=\"data row3 col0\" >-0.003920</td>\n",
       "      <td id=\"T_8f7be_row3_col1\" class=\"data row3 col1\" >-0.071707</td>\n",
       "      <td id=\"T_8f7be_row3_col2\" class=\"data row3 col2\" >-0.116484</td>\n",
       "      <td id=\"T_8f7be_row3_col3\" class=\"data row3 col3\" >1.000000</td>\n",
       "      <td id=\"T_8f7be_row3_col4\" class=\"data row3 col4\" >0.287672</td>\n",
       "      <td id=\"T_8f7be_row3_col5\" class=\"data row3 col5\" >0.074506</td>\n",
       "      <td id=\"T_8f7be_row3_col6\" class=\"data row3 col6\" >-0.006977</td>\n",
       "    </tr>\n",
       "    <tr>\n",
       "      <th id=\"T_8f7be_level0_row4\" class=\"row_heading level0 row4\" >Parch</th>\n",
       "      <td id=\"T_8f7be_row4_col0\" class=\"data row4 col0\" >0.030835</td>\n",
       "      <td id=\"T_8f7be_row4_col1\" class=\"data row4 col1\" >-0.052383</td>\n",
       "      <td id=\"T_8f7be_row4_col2\" class=\"data row4 col2\" >-0.150988</td>\n",
       "      <td id=\"T_8f7be_row4_col3\" class=\"data row4 col3\" >0.287672</td>\n",
       "      <td id=\"T_8f7be_row4_col4\" class=\"data row4 col4\" >1.000000</td>\n",
       "      <td id=\"T_8f7be_row4_col5\" class=\"data row4 col5\" >0.074199</td>\n",
       "      <td id=\"T_8f7be_row4_col6\" class=\"data row4 col6\" >-0.012344</td>\n",
       "    </tr>\n",
       "    <tr>\n",
       "      <th id=\"T_8f7be_level0_row5\" class=\"row_heading level0 row5\" >Fare</th>\n",
       "      <td id=\"T_8f7be_row5_col0\" class=\"data row5 col0\" >0.187407</td>\n",
       "      <td id=\"T_8f7be_row5_col1\" class=\"data row5 col1\" >-0.417084</td>\n",
       "      <td id=\"T_8f7be_row5_col2\" class=\"data row5 col2\" >0.107210</td>\n",
       "      <td id=\"T_8f7be_row5_col3\" class=\"data row5 col3\" >0.074506</td>\n",
       "      <td id=\"T_8f7be_row5_col4\" class=\"data row5 col4\" >0.074199</td>\n",
       "      <td id=\"T_8f7be_row5_col5\" class=\"data row5 col5\" >1.000000</td>\n",
       "      <td id=\"T_8f7be_row5_col6\" class=\"data row5 col6\" >0.002197</td>\n",
       "    </tr>\n",
       "    <tr>\n",
       "      <th id=\"T_8f7be_level0_row6\" class=\"row_heading level0 row6\" >CabinNum</th>\n",
       "      <td id=\"T_8f7be_row6_col0\" class=\"data row6 col0\" >-0.001102</td>\n",
       "      <td id=\"T_8f7be_row6_col1\" class=\"data row6 col1\" >0.000681</td>\n",
       "      <td id=\"T_8f7be_row6_col2\" class=\"data row6 col2\" >-0.001443</td>\n",
       "      <td id=\"T_8f7be_row6_col3\" class=\"data row6 col3\" >-0.006977</td>\n",
       "      <td id=\"T_8f7be_row6_col4\" class=\"data row6 col4\" >-0.012344</td>\n",
       "      <td id=\"T_8f7be_row6_col5\" class=\"data row6 col5\" >0.002197</td>\n",
       "      <td id=\"T_8f7be_row6_col6\" class=\"data row6 col6\" >1.000000</td>\n",
       "    </tr>\n",
       "  </tbody>\n",
       "</table>\n"
      ],
      "text/plain": [
       "<pandas.io.formats.style.Styler at 0x1365e49a890>"
      ]
     },
     "execution_count": 244,
     "metadata": {},
     "output_type": "execute_result"
    }
   ],
   "source": [
    "df[num_cols].corr().style.background_gradient(cmap='coolwarm')"
   ]
  },
  {
   "cell_type": "markdown",
   "id": "36fd5fa5",
   "metadata": {},
   "source": [
    "## Object data"
   ]
  },
  {
   "cell_type": "code",
   "execution_count": 245,
   "id": "f4d562e7",
   "metadata": {},
   "outputs": [],
   "source": [
    "cat_cols = df.select_dtypes('object').columns"
   ]
  },
  {
   "cell_type": "code",
   "execution_count": 246,
   "id": "ecee2abb",
   "metadata": {},
   "outputs": [
    {
     "data": {
      "text/plain": [
       "Name             0\n",
       "Sex              0\n",
       "Ticket        4623\n",
       "Embarked       250\n",
       "CabinChar    67866\n",
       "dtype: int64"
      ]
     },
     "execution_count": 246,
     "metadata": {},
     "output_type": "execute_result"
    }
   ],
   "source": [
    "df[cat_cols].isna().sum()"
   ]
  },
  {
   "cell_type": "code",
   "execution_count": 247,
   "id": "c1adef8f",
   "metadata": {},
   "outputs": [],
   "source": [
    "df.Embarked = df.Embarked.replace(np.nan, df.Embarked.mode().iloc[0])"
   ]
  },
  {
   "cell_type": "code",
   "execution_count": 248,
   "id": "bee79b01",
   "metadata": {},
   "outputs": [
    {
     "data": {
      "text/html": [
       "<div>\n",
       "<style scoped>\n",
       "    .dataframe tbody tr th:only-of-type {\n",
       "        vertical-align: middle;\n",
       "    }\n",
       "\n",
       "    .dataframe tbody tr th {\n",
       "        vertical-align: top;\n",
       "    }\n",
       "\n",
       "    .dataframe thead th {\n",
       "        text-align: right;\n",
       "    }\n",
       "</style>\n",
       "<table border=\"1\" class=\"dataframe\">\n",
       "  <thead>\n",
       "    <tr style=\"text-align: right;\">\n",
       "      <th></th>\n",
       "      <th>Name</th>\n",
       "      <th>Sex</th>\n",
       "      <th>Ticket</th>\n",
       "      <th>Embarked</th>\n",
       "      <th>CabinChar</th>\n",
       "    </tr>\n",
       "  </thead>\n",
       "  <tbody>\n",
       "    <tr>\n",
       "      <th>0</th>\n",
       "      <td>Oconnor, Frankie</td>\n",
       "      <td>male</td>\n",
       "      <td>209245</td>\n",
       "      <td>S</td>\n",
       "      <td>C</td>\n",
       "    </tr>\n",
       "    <tr>\n",
       "      <th>1</th>\n",
       "      <td>Bryan, Drew</td>\n",
       "      <td>male</td>\n",
       "      <td>27323</td>\n",
       "      <td>S</td>\n",
       "      <td>NaN</td>\n",
       "    </tr>\n",
       "    <tr>\n",
       "      <th>2</th>\n",
       "      <td>Owens, Kenneth</td>\n",
       "      <td>male</td>\n",
       "      <td>CA 457703</td>\n",
       "      <td>S</td>\n",
       "      <td>NaN</td>\n",
       "    </tr>\n",
       "    <tr>\n",
       "      <th>3</th>\n",
       "      <td>Kramer, James</td>\n",
       "      <td>male</td>\n",
       "      <td>A. 10866</td>\n",
       "      <td>S</td>\n",
       "      <td>NaN</td>\n",
       "    </tr>\n",
       "    <tr>\n",
       "      <th>4</th>\n",
       "      <td>Bond, Michael</td>\n",
       "      <td>male</td>\n",
       "      <td>427635</td>\n",
       "      <td>S</td>\n",
       "      <td>NaN</td>\n",
       "    </tr>\n",
       "    <tr>\n",
       "      <th>...</th>\n",
       "      <td>...</td>\n",
       "      <td>...</td>\n",
       "      <td>...</td>\n",
       "      <td>...</td>\n",
       "      <td>...</td>\n",
       "    </tr>\n",
       "    <tr>\n",
       "      <th>99995</th>\n",
       "      <td>Bell, Adele</td>\n",
       "      <td>female</td>\n",
       "      <td>PC 15008</td>\n",
       "      <td>C</td>\n",
       "      <td>D</td>\n",
       "    </tr>\n",
       "    <tr>\n",
       "      <th>99996</th>\n",
       "      <td>Brown, Herman</td>\n",
       "      <td>male</td>\n",
       "      <td>13273</td>\n",
       "      <td>S</td>\n",
       "      <td>NaN</td>\n",
       "    </tr>\n",
       "    <tr>\n",
       "      <th>99997</th>\n",
       "      <td>Childress, Charles</td>\n",
       "      <td>male</td>\n",
       "      <td>NaN</td>\n",
       "      <td>S</td>\n",
       "      <td>NaN</td>\n",
       "    </tr>\n",
       "    <tr>\n",
       "      <th>99998</th>\n",
       "      <td>Caughlin, Thomas</td>\n",
       "      <td>male</td>\n",
       "      <td>458654</td>\n",
       "      <td>S</td>\n",
       "      <td>NaN</td>\n",
       "    </tr>\n",
       "    <tr>\n",
       "      <th>99999</th>\n",
       "      <td>Enciso, Tyler</td>\n",
       "      <td>male</td>\n",
       "      <td>458074</td>\n",
       "      <td>S</td>\n",
       "      <td>NaN</td>\n",
       "    </tr>\n",
       "  </tbody>\n",
       "</table>\n",
       "<p>100000 rows × 5 columns</p>\n",
       "</div>"
      ],
      "text/plain": [
       "                     Name     Sex     Ticket Embarked CabinChar\n",
       "0        Oconnor, Frankie    male     209245        S         C\n",
       "1             Bryan, Drew    male      27323        S       NaN\n",
       "2          Owens, Kenneth    male  CA 457703        S       NaN\n",
       "3           Kramer, James    male   A. 10866        S       NaN\n",
       "4           Bond, Michael    male     427635        S       NaN\n",
       "...                   ...     ...        ...      ...       ...\n",
       "99995         Bell, Adele  female   PC 15008        C         D\n",
       "99996       Brown, Herman    male      13273        S       NaN\n",
       "99997  Childress, Charles    male        NaN        S       NaN\n",
       "99998    Caughlin, Thomas    male     458654        S       NaN\n",
       "99999       Enciso, Tyler    male     458074        S       NaN\n",
       "\n",
       "[100000 rows x 5 columns]"
      ]
     },
     "execution_count": 248,
     "metadata": {},
     "output_type": "execute_result"
    }
   ],
   "source": [
    "df[cat_cols]"
   ]
  },
  {
   "cell_type": "code",
   "execution_count": 249,
   "id": "5dedd07e",
   "metadata": {},
   "outputs": [
    {
     "data": {
      "text/plain": [
       "A/5             602\n",
       "C.A.            177\n",
       "SC/PARIS        145\n",
       "SOTON/O.Q.       80\n",
       "SC               57\n",
       "               ... \n",
       "421812            1\n",
       "PC 420601         1\n",
       "PC 26800          1\n",
       "STON/O 23755      1\n",
       "458074            1\n",
       "Name: Ticket, Length: 75331, dtype: int64"
      ]
     },
     "execution_count": 249,
     "metadata": {},
     "output_type": "execute_result"
    }
   ],
   "source": [
    "df.Ticket.value_counts()"
   ]
  },
  {
   "cell_type": "code",
   "execution_count": 250,
   "id": "33023ff7",
   "metadata": {},
   "outputs": [],
   "source": [
    "df['Ticket'] = df['Ticket'].str[:2]"
   ]
  },
  {
   "cell_type": "code",
   "execution_count": 251,
   "id": "f00708cd",
   "metadata": {},
   "outputs": [],
   "source": [
    "# Extract the character and numeric parts of the Ticket column\n",
    "df['TicketChar'] = df['Ticket'].str.extract(r'([A-Za-z\\.]+)', expand=False)\n",
    "df['TicketNum'] = df['Ticket'].str.extract(r'(\\d+)', expand=False)\n",
    "\n",
    "# Replace non-character values in TicketChar with NaN\n",
    "df['TicketChar'] = df['TicketChar'].replace(r'\\d+', np.nan, regex=True)\n",
    "\n",
    "# Replace non-numeric values in TicketNum with NaN\n",
    "df['TicketNum'] = df['TicketNum'].replace(r'[A-Za-z\\.]+', np.nan, regex=True)\n",
    "\n",
    "df = df.drop('Ticket', axis=1)"
   ]
  },
  {
   "cell_type": "code",
   "execution_count": 252,
   "id": "fd4d0c1b",
   "metadata": {},
   "outputs": [],
   "source": [
    "df['TicketNum'] = df['TicketNum'].astype('float')\n",
    "\n",
    "df['TicketNum'] = df['TicketNum'].replace(np.nan, df.TicketNum.mean())\n",
    "\n",
    "df['TicketChar'] = df['TicketChar'].replace(np.nan, df.TicketChar.mode().iloc[0])"
   ]
  },
  {
   "cell_type": "code",
   "execution_count": 253,
   "id": "e41037cb",
   "metadata": {},
   "outputs": [],
   "source": [
    "cat_cols = df.select_dtypes('object').columns"
   ]
  },
  {
   "cell_type": "code",
   "execution_count": 254,
   "id": "3b561113",
   "metadata": {},
   "outputs": [
    {
     "data": {
      "text/plain": [
       "Name              0\n",
       "Sex               0\n",
       "Embarked          0\n",
       "CabinChar     67866\n",
       "TicketChar        0\n",
       "dtype: int64"
      ]
     },
     "execution_count": 254,
     "metadata": {},
     "output_type": "execute_result"
    }
   ],
   "source": [
    "df[cat_cols].isna().sum()"
   ]
  },
  {
   "cell_type": "code",
   "execution_count": 255,
   "id": "0216ad77",
   "metadata": {},
   "outputs": [
    {
     "data": {
      "text/plain": [
       "C    11825\n",
       "B     7439\n",
       "A     6307\n",
       "D     3637\n",
       "E     1749\n",
       "F      663\n",
       "G      482\n",
       "T       32\n",
       "Name: CabinChar, dtype: int64"
      ]
     },
     "execution_count": 255,
     "metadata": {},
     "output_type": "execute_result"
    }
   ],
   "source": [
    "df.CabinChar.value_counts()"
   ]
  },
  {
   "cell_type": "code",
   "execution_count": 256,
   "id": "d88c14d2",
   "metadata": {},
   "outputs": [],
   "source": [
    "df.loc[df['CabinChar'].isnull(), 'CabinChar'] = np.random.choice(['A','B','C','D'], size=df['CabinChar'].isnull().sum())"
   ]
  },
  {
   "cell_type": "code",
   "execution_count": 257,
   "id": "8e5cc164",
   "metadata": {},
   "outputs": [
    {
     "data": {
      "text/plain": [
       "C    28721\n",
       "B    24325\n",
       "A    23450\n",
       "D    20578\n",
       "E     1749\n",
       "F      663\n",
       "G      482\n",
       "T       32\n",
       "Name: CabinChar, dtype: int64"
      ]
     },
     "execution_count": 257,
     "metadata": {},
     "output_type": "execute_result"
    }
   ],
   "source": [
    "df.CabinChar.value_counts()"
   ]
  },
  {
   "cell_type": "code",
   "execution_count": 258,
   "id": "7d0d1605",
   "metadata": {},
   "outputs": [
    {
     "data": {
      "text/plain": [
       "Johnson, John        31\n",
       "Smith, James         24\n",
       "Smith, John          24\n",
       "Johnson, William     22\n",
       "Smith, Michael       20\n",
       "                     ..\n",
       "Davis, Andre          1\n",
       "Rosenblum, Ronald     1\n",
       "Landry, Ernesto       1\n",
       "Mcdonald, Frances     1\n",
       "Enciso, Tyler         1\n",
       "Name: Name, Length: 92144, dtype: int64"
      ]
     },
     "execution_count": 258,
     "metadata": {},
     "output_type": "execute_result"
    }
   ],
   "source": [
    "df.Name.value_counts()"
   ]
  },
  {
   "cell_type": "code",
   "execution_count": 259,
   "id": "db3773cc",
   "metadata": {},
   "outputs": [],
   "source": [
    "df['SecondName'] = df.Name.str.split(',').apply(lambda x: x[0])\n",
    "df['FirstName'] = df.Name.str.split(',').apply(lambda x: x[1])\n",
    "df = df.drop('Name', axis=1)"
   ]
  },
  {
   "cell_type": "code",
   "execution_count": 260,
   "id": "0ebadbbe",
   "metadata": {},
   "outputs": [
    {
     "data": {
      "text/plain": [
       " James      2112\n",
       " John       2087\n",
       " Robert     1951\n",
       " Michael    1685\n",
       " William    1525\n",
       "            ... \n",
       " Myrtie        1\n",
       " Jordon        1\n",
       " Tarah         1\n",
       " Kacey         1\n",
       " Andra         1\n",
       "Name: FirstName, Length: 3953, dtype: int64"
      ]
     },
     "execution_count": 260,
     "metadata": {},
     "output_type": "execute_result"
    }
   ],
   "source": [
    "df.FirstName.value_counts()"
   ]
  },
  {
   "cell_type": "code",
   "execution_count": 261,
   "id": "1631ac9f",
   "metadata": {},
   "outputs": [
    {
     "data": {
      "text/html": [
       "<div>\n",
       "<style scoped>\n",
       "    .dataframe tbody tr th:only-of-type {\n",
       "        vertical-align: middle;\n",
       "    }\n",
       "\n",
       "    .dataframe tbody tr th {\n",
       "        vertical-align: top;\n",
       "    }\n",
       "\n",
       "    .dataframe thead th {\n",
       "        text-align: right;\n",
       "    }\n",
       "</style>\n",
       "<table border=\"1\" class=\"dataframe\">\n",
       "  <thead>\n",
       "    <tr style=\"text-align: right;\">\n",
       "      <th></th>\n",
       "      <th>Sex</th>\n",
       "      <th>Embarked</th>\n",
       "      <th>CabinChar</th>\n",
       "      <th>TicketChar</th>\n",
       "      <th>SecondName</th>\n",
       "      <th>FirstName</th>\n",
       "    </tr>\n",
       "  </thead>\n",
       "  <tbody>\n",
       "    <tr>\n",
       "      <th>0</th>\n",
       "      <td>male</td>\n",
       "      <td>S</td>\n",
       "      <td>C</td>\n",
       "      <td>PC</td>\n",
       "      <td>Oconnor</td>\n",
       "      <td>Frankie</td>\n",
       "    </tr>\n",
       "    <tr>\n",
       "      <th>1</th>\n",
       "      <td>male</td>\n",
       "      <td>S</td>\n",
       "      <td>C</td>\n",
       "      <td>PC</td>\n",
       "      <td>Bryan</td>\n",
       "      <td>Drew</td>\n",
       "    </tr>\n",
       "    <tr>\n",
       "      <th>2</th>\n",
       "      <td>male</td>\n",
       "      <td>S</td>\n",
       "      <td>A</td>\n",
       "      <td>CA</td>\n",
       "      <td>Owens</td>\n",
       "      <td>Kenneth</td>\n",
       "    </tr>\n",
       "    <tr>\n",
       "      <th>3</th>\n",
       "      <td>male</td>\n",
       "      <td>S</td>\n",
       "      <td>D</td>\n",
       "      <td>A.</td>\n",
       "      <td>Kramer</td>\n",
       "      <td>James</td>\n",
       "    </tr>\n",
       "    <tr>\n",
       "      <th>4</th>\n",
       "      <td>male</td>\n",
       "      <td>S</td>\n",
       "      <td>C</td>\n",
       "      <td>PC</td>\n",
       "      <td>Bond</td>\n",
       "      <td>Michael</td>\n",
       "    </tr>\n",
       "    <tr>\n",
       "      <th>...</th>\n",
       "      <td>...</td>\n",
       "      <td>...</td>\n",
       "      <td>...</td>\n",
       "      <td>...</td>\n",
       "      <td>...</td>\n",
       "      <td>...</td>\n",
       "    </tr>\n",
       "    <tr>\n",
       "      <th>99995</th>\n",
       "      <td>female</td>\n",
       "      <td>C</td>\n",
       "      <td>D</td>\n",
       "      <td>PC</td>\n",
       "      <td>Bell</td>\n",
       "      <td>Adele</td>\n",
       "    </tr>\n",
       "    <tr>\n",
       "      <th>99996</th>\n",
       "      <td>male</td>\n",
       "      <td>S</td>\n",
       "      <td>B</td>\n",
       "      <td>PC</td>\n",
       "      <td>Brown</td>\n",
       "      <td>Herman</td>\n",
       "    </tr>\n",
       "    <tr>\n",
       "      <th>99997</th>\n",
       "      <td>male</td>\n",
       "      <td>S</td>\n",
       "      <td>B</td>\n",
       "      <td>PC</td>\n",
       "      <td>Childress</td>\n",
       "      <td>Charles</td>\n",
       "    </tr>\n",
       "    <tr>\n",
       "      <th>99998</th>\n",
       "      <td>male</td>\n",
       "      <td>S</td>\n",
       "      <td>D</td>\n",
       "      <td>PC</td>\n",
       "      <td>Caughlin</td>\n",
       "      <td>Thomas</td>\n",
       "    </tr>\n",
       "    <tr>\n",
       "      <th>99999</th>\n",
       "      <td>male</td>\n",
       "      <td>S</td>\n",
       "      <td>B</td>\n",
       "      <td>PC</td>\n",
       "      <td>Enciso</td>\n",
       "      <td>Tyler</td>\n",
       "    </tr>\n",
       "  </tbody>\n",
       "</table>\n",
       "<p>100000 rows × 6 columns</p>\n",
       "</div>"
      ],
      "text/plain": [
       "          Sex Embarked CabinChar TicketChar SecondName FirstName\n",
       "0        male        S         C         PC    Oconnor   Frankie\n",
       "1        male        S         C         PC      Bryan      Drew\n",
       "2        male        S         A         CA      Owens   Kenneth\n",
       "3        male        S         D         A.     Kramer     James\n",
       "4        male        S         C         PC       Bond   Michael\n",
       "...       ...      ...       ...        ...        ...       ...\n",
       "99995  female        C         D         PC       Bell     Adele\n",
       "99996    male        S         B         PC      Brown    Herman\n",
       "99997    male        S         B         PC  Childress   Charles\n",
       "99998    male        S         D         PC   Caughlin    Thomas\n",
       "99999    male        S         B         PC     Enciso     Tyler\n",
       "\n",
       "[100000 rows x 6 columns]"
      ]
     },
     "execution_count": 261,
     "metadata": {},
     "output_type": "execute_result"
    }
   ],
   "source": [
    "cat_cols = df.select_dtypes('object').columns\n",
    "df[cat_cols]"
   ]
  },
  {
   "cell_type": "code",
   "execution_count": 262,
   "id": "fb977233",
   "metadata": {},
   "outputs": [],
   "source": [
    "cat_df = df.select_dtypes(include=['object'])\n",
    "\n",
    "cat_df = [col for col in cat_df if col != 'id']"
   ]
  },
  {
   "cell_type": "code",
   "execution_count": 263,
   "id": "1581161c",
   "metadata": {},
   "outputs": [],
   "source": [
    "from sklearn.preprocessing import OrdinalEncoder\n",
    "\n",
    "encoder = OrdinalEncoder()\n",
    "encoder.fit(df[cat_df])\n",
    "\n",
    "df[cat_df] = encoder.transform(df[cat_df])"
   ]
  },
  {
   "cell_type": "code",
   "execution_count": 264,
   "id": "b86545e7",
   "metadata": {},
   "outputs": [
    {
     "data": {
      "text/html": [
       "<div>\n",
       "<style scoped>\n",
       "    .dataframe tbody tr th:only-of-type {\n",
       "        vertical-align: middle;\n",
       "    }\n",
       "\n",
       "    .dataframe tbody tr th {\n",
       "        vertical-align: top;\n",
       "    }\n",
       "\n",
       "    .dataframe thead th {\n",
       "        text-align: right;\n",
       "    }\n",
       "</style>\n",
       "<table border=\"1\" class=\"dataframe\">\n",
       "  <thead>\n",
       "    <tr style=\"text-align: right;\">\n",
       "      <th></th>\n",
       "      <th>Sex</th>\n",
       "      <th>Embarked</th>\n",
       "      <th>CabinChar</th>\n",
       "      <th>TicketChar</th>\n",
       "      <th>SecondName</th>\n",
       "      <th>FirstName</th>\n",
       "    </tr>\n",
       "  </thead>\n",
       "  <tbody>\n",
       "    <tr>\n",
       "      <th>0</th>\n",
       "      <td>1.0</td>\n",
       "      <td>2.0</td>\n",
       "      <td>2.0</td>\n",
       "      <td>10.0</td>\n",
       "      <td>14195.0</td>\n",
       "      <td>1311.0</td>\n",
       "    </tr>\n",
       "    <tr>\n",
       "      <th>1</th>\n",
       "      <td>1.0</td>\n",
       "      <td>2.0</td>\n",
       "      <td>2.0</td>\n",
       "      <td>10.0</td>\n",
       "      <td>2495.0</td>\n",
       "      <td>1015.0</td>\n",
       "    </tr>\n",
       "    <tr>\n",
       "      <th>2</th>\n",
       "      <td>1.0</td>\n",
       "      <td>2.0</td>\n",
       "      <td>0.0</td>\n",
       "      <td>5.0</td>\n",
       "      <td>14478.0</td>\n",
       "      <td>2010.0</td>\n",
       "    </tr>\n",
       "    <tr>\n",
       "      <th>3</th>\n",
       "      <td>1.0</td>\n",
       "      <td>2.0</td>\n",
       "      <td>3.0</td>\n",
       "      <td>1.0</td>\n",
       "      <td>10435.0</td>\n",
       "      <td>1662.0</td>\n",
       "    </tr>\n",
       "    <tr>\n",
       "      <th>4</th>\n",
       "      <td>1.0</td>\n",
       "      <td>2.0</td>\n",
       "      <td>2.0</td>\n",
       "      <td>10.0</td>\n",
       "      <td>1902.0</td>\n",
       "      <td>2678.0</td>\n",
       "    </tr>\n",
       "    <tr>\n",
       "      <th>...</th>\n",
       "      <td>...</td>\n",
       "      <td>...</td>\n",
       "      <td>...</td>\n",
       "      <td>...</td>\n",
       "      <td>...</td>\n",
       "      <td>...</td>\n",
       "    </tr>\n",
       "    <tr>\n",
       "      <th>99995</th>\n",
       "      <td>0.0</td>\n",
       "      <td>0.0</td>\n",
       "      <td>3.0</td>\n",
       "      <td>10.0</td>\n",
       "      <td>1301.0</td>\n",
       "      <td>18.0</td>\n",
       "    </tr>\n",
       "    <tr>\n",
       "      <th>99996</th>\n",
       "      <td>1.0</td>\n",
       "      <td>2.0</td>\n",
       "      <td>1.0</td>\n",
       "      <td>10.0</td>\n",
       "      <td>2436.0</td>\n",
       "      <td>1507.0</td>\n",
       "    </tr>\n",
       "    <tr>\n",
       "      <th>99997</th>\n",
       "      <td>1.0</td>\n",
       "      <td>2.0</td>\n",
       "      <td>1.0</td>\n",
       "      <td>10.0</td>\n",
       "      <td>3463.0</td>\n",
       "      <td>610.0</td>\n",
       "    </tr>\n",
       "    <tr>\n",
       "      <th>99998</th>\n",
       "      <td>1.0</td>\n",
       "      <td>2.0</td>\n",
       "      <td>3.0</td>\n",
       "      <td>10.0</td>\n",
       "      <td>3226.0</td>\n",
       "      <td>3636.0</td>\n",
       "    </tr>\n",
       "    <tr>\n",
       "      <th>99999</th>\n",
       "      <td>1.0</td>\n",
       "      <td>2.0</td>\n",
       "      <td>1.0</td>\n",
       "      <td>10.0</td>\n",
       "      <td>5762.0</td>\n",
       "      <td>3730.0</td>\n",
       "    </tr>\n",
       "  </tbody>\n",
       "</table>\n",
       "<p>100000 rows × 6 columns</p>\n",
       "</div>"
      ],
      "text/plain": [
       "       Sex  Embarked  CabinChar  TicketChar  SecondName  FirstName\n",
       "0      1.0       2.0        2.0        10.0     14195.0     1311.0\n",
       "1      1.0       2.0        2.0        10.0      2495.0     1015.0\n",
       "2      1.0       2.0        0.0         5.0     14478.0     2010.0\n",
       "3      1.0       2.0        3.0         1.0     10435.0     1662.0\n",
       "4      1.0       2.0        2.0        10.0      1902.0     2678.0\n",
       "...    ...       ...        ...         ...         ...        ...\n",
       "99995  0.0       0.0        3.0        10.0      1301.0       18.0\n",
       "99996  1.0       2.0        1.0        10.0      2436.0     1507.0\n",
       "99997  1.0       2.0        1.0        10.0      3463.0      610.0\n",
       "99998  1.0       2.0        3.0        10.0      3226.0     3636.0\n",
       "99999  1.0       2.0        1.0        10.0      5762.0     3730.0\n",
       "\n",
       "[100000 rows x 6 columns]"
      ]
     },
     "execution_count": 264,
     "metadata": {},
     "output_type": "execute_result"
    }
   ],
   "source": [
    "df[cat_df]"
   ]
  },
  {
   "cell_type": "code",
   "execution_count": 265,
   "id": "a41d6d04",
   "metadata": {},
   "outputs": [
    {
     "data": {
      "text/html": [
       "<div>\n",
       "<style scoped>\n",
       "    .dataframe tbody tr th:only-of-type {\n",
       "        vertical-align: middle;\n",
       "    }\n",
       "\n",
       "    .dataframe tbody tr th {\n",
       "        vertical-align: top;\n",
       "    }\n",
       "\n",
       "    .dataframe thead th {\n",
       "        text-align: right;\n",
       "    }\n",
       "</style>\n",
       "<table border=\"1\" class=\"dataframe\">\n",
       "  <thead>\n",
       "    <tr style=\"text-align: right;\">\n",
       "      <th></th>\n",
       "      <th>Survived</th>\n",
       "      <th>Pclass</th>\n",
       "      <th>Sex</th>\n",
       "      <th>Age</th>\n",
       "      <th>SibSp</th>\n",
       "      <th>Parch</th>\n",
       "      <th>Fare</th>\n",
       "      <th>Embarked</th>\n",
       "      <th>CabinChar</th>\n",
       "      <th>CabinNum</th>\n",
       "      <th>TicketChar</th>\n",
       "      <th>TicketNum</th>\n",
       "      <th>SecondName</th>\n",
       "      <th>FirstName</th>\n",
       "    </tr>\n",
       "  </thead>\n",
       "  <tbody>\n",
       "    <tr>\n",
       "      <th>0</th>\n",
       "      <td>1</td>\n",
       "      <td>1</td>\n",
       "      <td>1.0</td>\n",
       "      <td>38.355472</td>\n",
       "      <td>2</td>\n",
       "      <td>0</td>\n",
       "      <td>27.14</td>\n",
       "      <td>2.0</td>\n",
       "      <td>2.0</td>\n",
       "      <td>12239.000000</td>\n",
       "      <td>10.0</td>\n",
       "      <td>20.000000</td>\n",
       "      <td>14195.0</td>\n",
       "      <td>1311.0</td>\n",
       "    </tr>\n",
       "    <tr>\n",
       "      <th>1</th>\n",
       "      <td>0</td>\n",
       "      <td>3</td>\n",
       "      <td>1.0</td>\n",
       "      <td>38.355472</td>\n",
       "      <td>0</td>\n",
       "      <td>0</td>\n",
       "      <td>13.35</td>\n",
       "      <td>2.0</td>\n",
       "      <td>2.0</td>\n",
       "      <td>12558.836839</td>\n",
       "      <td>10.0</td>\n",
       "      <td>27.000000</td>\n",
       "      <td>2495.0</td>\n",
       "      <td>1015.0</td>\n",
       "    </tr>\n",
       "    <tr>\n",
       "      <th>2</th>\n",
       "      <td>0</td>\n",
       "      <td>3</td>\n",
       "      <td>1.0</td>\n",
       "      <td>0.330000</td>\n",
       "      <td>1</td>\n",
       "      <td>2</td>\n",
       "      <td>71.29</td>\n",
       "      <td>2.0</td>\n",
       "      <td>0.0</td>\n",
       "      <td>12558.836839</td>\n",
       "      <td>5.0</td>\n",
       "      <td>34.453415</td>\n",
       "      <td>14478.0</td>\n",
       "      <td>2010.0</td>\n",
       "    </tr>\n",
       "    <tr>\n",
       "      <th>3</th>\n",
       "      <td>0</td>\n",
       "      <td>3</td>\n",
       "      <td>1.0</td>\n",
       "      <td>19.000000</td>\n",
       "      <td>0</td>\n",
       "      <td>0</td>\n",
       "      <td>13.04</td>\n",
       "      <td>2.0</td>\n",
       "      <td>3.0</td>\n",
       "      <td>12558.836839</td>\n",
       "      <td>1.0</td>\n",
       "      <td>34.453415</td>\n",
       "      <td>10435.0</td>\n",
       "      <td>1662.0</td>\n",
       "    </tr>\n",
       "    <tr>\n",
       "      <th>4</th>\n",
       "      <td>1</td>\n",
       "      <td>3</td>\n",
       "      <td>1.0</td>\n",
       "      <td>25.000000</td>\n",
       "      <td>0</td>\n",
       "      <td>0</td>\n",
       "      <td>7.76</td>\n",
       "      <td>2.0</td>\n",
       "      <td>2.0</td>\n",
       "      <td>12558.836839</td>\n",
       "      <td>10.0</td>\n",
       "      <td>42.000000</td>\n",
       "      <td>1902.0</td>\n",
       "      <td>2678.0</td>\n",
       "    </tr>\n",
       "    <tr>\n",
       "      <th>...</th>\n",
       "      <td>...</td>\n",
       "      <td>...</td>\n",
       "      <td>...</td>\n",
       "      <td>...</td>\n",
       "      <td>...</td>\n",
       "      <td>...</td>\n",
       "      <td>...</td>\n",
       "      <td>...</td>\n",
       "      <td>...</td>\n",
       "      <td>...</td>\n",
       "      <td>...</td>\n",
       "      <td>...</td>\n",
       "      <td>...</td>\n",
       "      <td>...</td>\n",
       "    </tr>\n",
       "    <tr>\n",
       "      <th>99995</th>\n",
       "      <td>1</td>\n",
       "      <td>2</td>\n",
       "      <td>0.0</td>\n",
       "      <td>62.000000</td>\n",
       "      <td>0</td>\n",
       "      <td>0</td>\n",
       "      <td>14.86</td>\n",
       "      <td>0.0</td>\n",
       "      <td>3.0</td>\n",
       "      <td>17243.000000</td>\n",
       "      <td>10.0</td>\n",
       "      <td>34.453415</td>\n",
       "      <td>1301.0</td>\n",
       "      <td>18.0</td>\n",
       "    </tr>\n",
       "    <tr>\n",
       "      <th>99996</th>\n",
       "      <td>0</td>\n",
       "      <td>2</td>\n",
       "      <td>1.0</td>\n",
       "      <td>66.000000</td>\n",
       "      <td>0</td>\n",
       "      <td>0</td>\n",
       "      <td>11.15</td>\n",
       "      <td>2.0</td>\n",
       "      <td>1.0</td>\n",
       "      <td>12558.836839</td>\n",
       "      <td>10.0</td>\n",
       "      <td>13.000000</td>\n",
       "      <td>2436.0</td>\n",
       "      <td>1507.0</td>\n",
       "    </tr>\n",
       "    <tr>\n",
       "      <th>99997</th>\n",
       "      <td>0</td>\n",
       "      <td>3</td>\n",
       "      <td>1.0</td>\n",
       "      <td>37.000000</td>\n",
       "      <td>0</td>\n",
       "      <td>0</td>\n",
       "      <td>9.95</td>\n",
       "      <td>2.0</td>\n",
       "      <td>1.0</td>\n",
       "      <td>12558.836839</td>\n",
       "      <td>10.0</td>\n",
       "      <td>34.453415</td>\n",
       "      <td>3463.0</td>\n",
       "      <td>610.0</td>\n",
       "    </tr>\n",
       "    <tr>\n",
       "      <th>99998</th>\n",
       "      <td>0</td>\n",
       "      <td>3</td>\n",
       "      <td>1.0</td>\n",
       "      <td>51.000000</td>\n",
       "      <td>0</td>\n",
       "      <td>1</td>\n",
       "      <td>30.92</td>\n",
       "      <td>2.0</td>\n",
       "      <td>3.0</td>\n",
       "      <td>12558.836839</td>\n",
       "      <td>10.0</td>\n",
       "      <td>45.000000</td>\n",
       "      <td>3226.0</td>\n",
       "      <td>3636.0</td>\n",
       "    </tr>\n",
       "    <tr>\n",
       "      <th>99999</th>\n",
       "      <td>0</td>\n",
       "      <td>3</td>\n",
       "      <td>1.0</td>\n",
       "      <td>55.000000</td>\n",
       "      <td>0</td>\n",
       "      <td>0</td>\n",
       "      <td>13.96</td>\n",
       "      <td>2.0</td>\n",
       "      <td>1.0</td>\n",
       "      <td>12558.836839</td>\n",
       "      <td>10.0</td>\n",
       "      <td>45.000000</td>\n",
       "      <td>5762.0</td>\n",
       "      <td>3730.0</td>\n",
       "    </tr>\n",
       "  </tbody>\n",
       "</table>\n",
       "<p>100000 rows × 14 columns</p>\n",
       "</div>"
      ],
      "text/plain": [
       "       Survived  Pclass  Sex        Age  SibSp  Parch   Fare  Embarked  \\\n",
       "0             1       1  1.0  38.355472      2      0  27.14       2.0   \n",
       "1             0       3  1.0  38.355472      0      0  13.35       2.0   \n",
       "2             0       3  1.0   0.330000      1      2  71.29       2.0   \n",
       "3             0       3  1.0  19.000000      0      0  13.04       2.0   \n",
       "4             1       3  1.0  25.000000      0      0   7.76       2.0   \n",
       "...         ...     ...  ...        ...    ...    ...    ...       ...   \n",
       "99995         1       2  0.0  62.000000      0      0  14.86       0.0   \n",
       "99996         0       2  1.0  66.000000      0      0  11.15       2.0   \n",
       "99997         0       3  1.0  37.000000      0      0   9.95       2.0   \n",
       "99998         0       3  1.0  51.000000      0      1  30.92       2.0   \n",
       "99999         0       3  1.0  55.000000      0      0  13.96       2.0   \n",
       "\n",
       "       CabinChar      CabinNum  TicketChar  TicketNum  SecondName  FirstName  \n",
       "0            2.0  12239.000000        10.0  20.000000     14195.0     1311.0  \n",
       "1            2.0  12558.836839        10.0  27.000000      2495.0     1015.0  \n",
       "2            0.0  12558.836839         5.0  34.453415     14478.0     2010.0  \n",
       "3            3.0  12558.836839         1.0  34.453415     10435.0     1662.0  \n",
       "4            2.0  12558.836839        10.0  42.000000      1902.0     2678.0  \n",
       "...          ...           ...         ...        ...         ...        ...  \n",
       "99995        3.0  17243.000000        10.0  34.453415      1301.0       18.0  \n",
       "99996        1.0  12558.836839        10.0  13.000000      2436.0     1507.0  \n",
       "99997        1.0  12558.836839        10.0  34.453415      3463.0      610.0  \n",
       "99998        3.0  12558.836839        10.0  45.000000      3226.0     3636.0  \n",
       "99999        1.0  12558.836839        10.0  45.000000      5762.0     3730.0  \n",
       "\n",
       "[100000 rows x 14 columns]"
      ]
     },
     "execution_count": 265,
     "metadata": {},
     "output_type": "execute_result"
    }
   ],
   "source": [
    "df"
   ]
  },
  {
   "cell_type": "code",
   "execution_count": 266,
   "id": "a8bb1c02",
   "metadata": {},
   "outputs": [
    {
     "data": {
      "text/plain": [
       "Survived      1.000000\n",
       "Sex           0.507260\n",
       "Embarked      0.370688\n",
       "Pclass        0.289723\n",
       "Fare          0.187407\n",
       "CabinChar     0.113770\n",
       "Age           0.102186\n",
       "TicketChar    0.064573\n",
       "Parch         0.030835\n",
       "FirstName     0.015583\n",
       "SibSp         0.003920\n",
       "TicketNum     0.001768\n",
       "CabinNum      0.001102\n",
       "SecondName    0.000815\n",
       "Name: Survived, dtype: float64"
      ]
     },
     "execution_count": 266,
     "metadata": {},
     "output_type": "execute_result"
    }
   ],
   "source": [
    "df.corr()['Survived'].apply(abs).sort_values(ascending=False)"
   ]
  },
  {
   "cell_type": "markdown",
   "id": "bd972315",
   "metadata": {},
   "source": [
    "# Model"
   ]
  },
  {
   "cell_type": "code",
   "execution_count": 267,
   "id": "aad76eae",
   "metadata": {},
   "outputs": [],
   "source": [
    "from sklearn.impute import SimpleImputer\n",
    "from sklearn.preprocessing import StandardScaler\n",
    "from sklearn.model_selection import train_test_split\n",
    "from sklearn.ensemble import RandomForestClassifier\n",
    "\n",
    "X, y = df.drop('Survived', axis=1), df['Survived']\n",
    "\n",
    "X_train, X_test, y_train, y_test = train_test_split(X, y, test_size=0.1, random_state=42)"
   ]
  },
  {
   "cell_type": "code",
   "execution_count": 268,
   "id": "787d51e1",
   "metadata": {},
   "outputs": [],
   "source": [
    "forest = RandomForestClassifier()"
   ]
  },
  {
   "cell_type": "code",
   "execution_count": 269,
   "id": "8bf57074",
   "metadata": {},
   "outputs": [
    {
     "data": {
      "text/html": [
       "<style>#sk-container-id-8 {color: black;background-color: white;}#sk-container-id-8 pre{padding: 0;}#sk-container-id-8 div.sk-toggleable {background-color: white;}#sk-container-id-8 label.sk-toggleable__label {cursor: pointer;display: block;width: 100%;margin-bottom: 0;padding: 0.3em;box-sizing: border-box;text-align: center;}#sk-container-id-8 label.sk-toggleable__label-arrow:before {content: \"▸\";float: left;margin-right: 0.25em;color: #696969;}#sk-container-id-8 label.sk-toggleable__label-arrow:hover:before {color: black;}#sk-container-id-8 div.sk-estimator:hover label.sk-toggleable__label-arrow:before {color: black;}#sk-container-id-8 div.sk-toggleable__content {max-height: 0;max-width: 0;overflow: hidden;text-align: left;background-color: #f0f8ff;}#sk-container-id-8 div.sk-toggleable__content pre {margin: 0.2em;color: black;border-radius: 0.25em;background-color: #f0f8ff;}#sk-container-id-8 input.sk-toggleable__control:checked~div.sk-toggleable__content {max-height: 200px;max-width: 100%;overflow: auto;}#sk-container-id-8 input.sk-toggleable__control:checked~label.sk-toggleable__label-arrow:before {content: \"▾\";}#sk-container-id-8 div.sk-estimator input.sk-toggleable__control:checked~label.sk-toggleable__label {background-color: #d4ebff;}#sk-container-id-8 div.sk-label input.sk-toggleable__control:checked~label.sk-toggleable__label {background-color: #d4ebff;}#sk-container-id-8 input.sk-hidden--visually {border: 0;clip: rect(1px 1px 1px 1px);clip: rect(1px, 1px, 1px, 1px);height: 1px;margin: -1px;overflow: hidden;padding: 0;position: absolute;width: 1px;}#sk-container-id-8 div.sk-estimator {font-family: monospace;background-color: #f0f8ff;border: 1px dotted black;border-radius: 0.25em;box-sizing: border-box;margin-bottom: 0.5em;}#sk-container-id-8 div.sk-estimator:hover {background-color: #d4ebff;}#sk-container-id-8 div.sk-parallel-item::after {content: \"\";width: 100%;border-bottom: 1px solid gray;flex-grow: 1;}#sk-container-id-8 div.sk-label:hover label.sk-toggleable__label {background-color: #d4ebff;}#sk-container-id-8 div.sk-serial::before {content: \"\";position: absolute;border-left: 1px solid gray;box-sizing: border-box;top: 0;bottom: 0;left: 50%;z-index: 0;}#sk-container-id-8 div.sk-serial {display: flex;flex-direction: column;align-items: center;background-color: white;padding-right: 0.2em;padding-left: 0.2em;position: relative;}#sk-container-id-8 div.sk-item {position: relative;z-index: 1;}#sk-container-id-8 div.sk-parallel {display: flex;align-items: stretch;justify-content: center;background-color: white;position: relative;}#sk-container-id-8 div.sk-item::before, #sk-container-id-8 div.sk-parallel-item::before {content: \"\";position: absolute;border-left: 1px solid gray;box-sizing: border-box;top: 0;bottom: 0;left: 50%;z-index: -1;}#sk-container-id-8 div.sk-parallel-item {display: flex;flex-direction: column;z-index: 1;position: relative;background-color: white;}#sk-container-id-8 div.sk-parallel-item:first-child::after {align-self: flex-end;width: 50%;}#sk-container-id-8 div.sk-parallel-item:last-child::after {align-self: flex-start;width: 50%;}#sk-container-id-8 div.sk-parallel-item:only-child::after {width: 0;}#sk-container-id-8 div.sk-dashed-wrapped {border: 1px dashed gray;margin: 0 0.4em 0.5em 0.4em;box-sizing: border-box;padding-bottom: 0.4em;background-color: white;}#sk-container-id-8 div.sk-label label {font-family: monospace;font-weight: bold;display: inline-block;line-height: 1.2em;}#sk-container-id-8 div.sk-label-container {text-align: center;}#sk-container-id-8 div.sk-container {/* jupyter's `normalize.less` sets `[hidden] { display: none; }` but bootstrap.min.css set `[hidden] { display: none !important; }` so we also need the `!important` here to be able to override the default hidden behavior on the sphinx rendered scikit-learn.org. See: https://github.com/scikit-learn/scikit-learn/issues/21755 */display: inline-block !important;position: relative;}#sk-container-id-8 div.sk-text-repr-fallback {display: none;}</style><div id=\"sk-container-id-8\" class=\"sk-top-container\"><div class=\"sk-text-repr-fallback\"><pre>RandomForestClassifier()</pre><b>In a Jupyter environment, please rerun this cell to show the HTML representation or trust the notebook. <br />On GitHub, the HTML representation is unable to render, please try loading this page with nbviewer.org.</b></div><div class=\"sk-container\" hidden><div class=\"sk-item\"><div class=\"sk-estimator sk-toggleable\"><input class=\"sk-toggleable__control sk-hidden--visually\" id=\"sk-estimator-id-8\" type=\"checkbox\" checked><label for=\"sk-estimator-id-8\" class=\"sk-toggleable__label sk-toggleable__label-arrow\">RandomForestClassifier</label><div class=\"sk-toggleable__content\"><pre>RandomForestClassifier()</pre></div></div></div></div></div>"
      ],
      "text/plain": [
       "RandomForestClassifier()"
      ]
     },
     "execution_count": 269,
     "metadata": {},
     "output_type": "execute_result"
    }
   ],
   "source": [
    "forest.fit(X_train, y_train)"
   ]
  },
  {
   "cell_type": "code",
   "execution_count": 270,
   "id": "9ba0143f",
   "metadata": {},
   "outputs": [
    {
     "data": {
      "text/plain": [
       "1.0"
      ]
     },
     "execution_count": 270,
     "metadata": {},
     "output_type": "execute_result"
    }
   ],
   "source": [
    "forest.score(X_train, y_train)"
   ]
  },
  {
   "cell_type": "code",
   "execution_count": 271,
   "id": "af5ac735",
   "metadata": {},
   "outputs": [
    {
     "data": {
      "text/plain": [
       "0.7815"
      ]
     },
     "execution_count": 271,
     "metadata": {},
     "output_type": "execute_result"
    }
   ],
   "source": [
    "forest.score(X_test, y_test)"
   ]
  },
  {
   "cell_type": "code",
   "execution_count": 272,
   "id": "916f8671",
   "metadata": {},
   "outputs": [],
   "source": [
    "y_pred = forest.predict(X_test)"
   ]
  },
  {
   "cell_type": "code",
   "execution_count": 273,
   "id": "fcff7e44",
   "metadata": {},
   "outputs": [
    {
     "data": {
      "text/plain": [
       "0    5762\n",
       "1    4238\n",
       "Name: Survived, dtype: int64"
      ]
     },
     "execution_count": 273,
     "metadata": {},
     "output_type": "execute_result"
    }
   ],
   "source": [
    "y_test.value_counts()"
   ]
  },
  {
   "cell_type": "markdown",
   "id": "c36318c4",
   "metadata": {},
   "source": [
    "## Evaluation"
   ]
  },
  {
   "cell_type": "code",
   "execution_count": 274,
   "id": "d0026ab8",
   "metadata": {},
   "outputs": [],
   "source": [
    "from sklearn.metrics import confusion_matrix, recall_score, precision_score, classification_report, ConfusionMatrixDisplay"
   ]
  },
  {
   "cell_type": "code",
   "execution_count": 275,
   "id": "d14b0544",
   "metadata": {},
   "outputs": [
    {
     "data": {
      "image/png": "[encoded data removed]",
      "text/plain": [
       "<Figure size 1000x600 with 2 Axes>"
      ]
     },
     "metadata": {},
     "output_type": "display_data"
    }
   ],
   "source": [
    "cm = confusion_matrix(y_test, y_pred)\n",
    "ConfusionMatrixDisplay(cm).plot();"
   ]
  },
  {
   "cell_type": "code",
   "execution_count": 276,
   "id": "5ae2e7a4",
   "metadata": {},
   "outputs": [
    {
     "data": {
      "text/plain": [
       "'              precision    recall  f1-score   support\\n\\n           0       0.80      0.82      0.81      5762\\n           1       0.75      0.73      0.74      4238\\n\\n    accuracy                           0.78     10000\\n   macro avg       0.78      0.77      0.78     10000\\nweighted avg       0.78      0.78      0.78     10000\\n'"
      ]
     },
     "execution_count": 276,
     "metadata": {},
     "output_type": "execute_result"
    }
   ],
   "source": [
    "classification_report(y_test, y_pred)"
   ]
  },
  {
   "cell_type": "code",
   "execution_count": 277,
   "id": "1d1c61d7",
   "metadata": {},
   "outputs": [
    {
     "data": {
      "image/png": "[encoded data removed]",
      "text/plain": [
       "<Figure size 1000x600 with 1 Axes>"
      ]
     },
     "metadata": {},
     "output_type": "display_data"
    }
   ],
   "source": [
    "pd.Series(forest.feature_importances_).plot(kind='bar');"
   ]
  },
  {
   "cell_type": "code",
   "execution_count": 278,
   "id": "29b6e14a",
   "metadata": {},
   "outputs": [
    {
     "data": {
      "text/plain": [
       "array([0.80339271, 0.7500609 ])"
      ]
     },
     "execution_count": 278,
     "metadata": {},
     "output_type": "execute_result"
    }
   ],
   "source": [
    "precision_score(y_test, y_pred, average=None)"
   ]
  },
  {
   "cell_type": "code",
   "execution_count": 279,
   "id": "6b25acd9",
   "metadata": {},
   "outputs": [
    {
     "data": {
      "text/plain": [
       "array([0.82193683, 0.72652194])"
      ]
     },
     "execution_count": 279,
     "metadata": {},
     "output_type": "execute_result"
    }
   ],
   "source": [
    "recall_score(y_test, y_pred, average=None)"
   ]
  }
 ],
 "metadata": {
  "celltoolbar": "Raw Cell Format",
  "kernelspec": {
   "display_name": "Python 3 (ipykernel)",
   "language": "python",
   "name": "python3"
  },
  "language_info": {
   "codemirror_mode": {
    "name": "ipython",
    "version": 3
   },
   "file_extension": ".py",
   "mimetype": "text/x-python",
   "name": "python",
   "nbconvert_exporter": "python",
   "pygments_lexer": "ipython3",
   "version": "3.11.4"
  }
 },
 "nbformat": 4,
 "nbformat_minor": 5
}
